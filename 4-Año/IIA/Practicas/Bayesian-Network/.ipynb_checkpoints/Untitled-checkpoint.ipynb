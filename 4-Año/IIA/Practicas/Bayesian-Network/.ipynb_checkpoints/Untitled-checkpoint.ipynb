{
 "cells": [
  {
   "cell_type": "code",
   "execution_count": 1,
   "id": "300d46b3",
   "metadata": {},
   "outputs": [],
   "source": [
    "from bayesian_network import BayesianNetwork"
   ]
  },
  {
   "cell_type": "code",
   "execution_count": 6,
   "id": "81e79ab7",
   "metadata": {},
   "outputs": [],
   "source": [
    "tablas = \"\"\"R, 0.001\n",
    "            T, 0.002\n",
    "R, T,       A, 0.95\n",
    "R, no T,    A, 0.95\n",
    "no R, T,    A, 0.29\n",
    "no R, no T, A, 0.001\n",
    "A,          J, 0.9\n",
    "no A,       J, 0.05\n",
    "A,          M, 0.7\n",
    "no A,       M, 0.01\n",
    "\"\"\""
   ]
  },
  {
   "cell_type": "code",
   "execution_count": 7,
   "id": "ab321cd1",
   "metadata": {},
   "outputs": [],
   "source": [
    "pronostico = BayesianNetwork(tablas)"
   ]
  },
  {
   "cell_type": "code",
   "execution_count": 8,
   "id": "e941569b",
   "metadata": {},
   "outputs": [
    {
     "name": "stdout",
     "output_type": "stream",
     "text": [
      "P(R = True, J = True)\n",
      "= P(R = True, J = True, M = False, T = False, A = False) + P(R = True, J = True, M = False, T = False, A = True) + P(R = True, J = True, M = False, T = True, A = False) + P(R = True, J = True, M = False, T = True, A = True) + P(R = True, J = True, M = True, T = False, A = False) + P(R = True, J = True, M = True, T = False, A = True) + P(R = True, J = True, M = True, T = True, A = False) + P(R = True, J = True, M = True, T = True, A = True)\n",
      "\n",
      "\n",
      "Cálculos auxiliares:\n",
      "P(R = True, J = True, M = False, T = False, A = False)\n",
      "=P(R = True) * P(J = True | A = False) * P(M = False | A = False) * P(T = False) * P(A = False | R = True, T = False)\n",
      "=0.001 * 0.05 * 0.99 * 0.998 * 0.050000000000000044\n",
      "=2.4700500000000023e-06\n",
      "\n",
      "P(R = True, J = True, M = False, T = False, A = True)\n",
      "=P(R = True) * P(J = True | A = True) * P(M = False | A = True) * P(T = False) * P(A = True | R = True, T = False)\n",
      "=0.001 * 0.9 * 0.30000000000000004 * 0.998 * 0.95\n",
      "=0.00025598700000000005\n",
      "\n",
      "P(R = True, J = True, M = False, T = True, A = False)\n",
      "=P(R = True) * P(J = True | A = False) * P(M = False | A = False) * P(T = True) * P(A = False | R = True, T = True)\n",
      "=0.001 * 0.05 * 0.99 * 0.002 * 0.050000000000000044\n",
      "=4.9500000000000054e-09\n",
      "\n",
      "P(R = True, J = True, M = False, T = True, A = True)\n",
      "=P(R = True) * P(J = True | A = True) * P(M = False | A = True) * P(T = True) * P(A = True | R = True, T = True)\n",
      "=0.001 * 0.9 * 0.30000000000000004 * 0.002 * 0.95\n",
      "=5.130000000000001e-07\n",
      "\n",
      "P(R = True, J = True, M = True, T = False, A = False)\n",
      "=P(R = True) * P(J = True | A = False) * P(M = True | A = False) * P(T = False) * P(A = False | R = True, T = False)\n",
      "=0.001 * 0.05 * 0.01 * 0.998 * 0.050000000000000044\n",
      "=2.4950000000000028e-08\n",
      "\n",
      "P(R = True, J = True, M = True, T = False, A = True)\n",
      "=P(R = True) * P(J = True | A = True) * P(M = True | A = True) * P(T = False) * P(A = True | R = True, T = False)\n",
      "=0.001 * 0.9 * 0.7 * 0.998 * 0.95\n",
      "=0.000597303\n",
      "\n",
      "P(R = True, J = True, M = True, T = True, A = False)\n",
      "=P(R = True) * P(J = True | A = False) * P(M = True | A = False) * P(T = True) * P(A = False | R = True, T = True)\n",
      "=0.001 * 0.05 * 0.01 * 0.002 * 0.050000000000000044\n",
      "=5.000000000000006e-11\n",
      "\n",
      "P(R = True, J = True, M = True, T = True, A = True)\n",
      "=P(R = True) * P(J = True | A = True) * P(M = True | A = True) * P(T = True) * P(A = True | R = True, T = True)\n",
      "=0.001 * 0.9 * 0.7 * 0.002 * 0.95\n",
      "=1.197e-06\n",
      "\n"
     ]
    },
    {
     "data": {
      "text/plain": [
       "0.0008575000000000001"
      ]
     },
     "execution_count": 8,
     "metadata": {},
     "output_type": "execute_result"
    }
   ],
   "source": [
    "pronostico.calcular('P(R, J)')"
   ]
  },
  {
   "cell_type": "code",
   "execution_count": 9,
   "id": "f4639a87",
   "metadata": {},
   "outputs": [
    {
     "name": "stdout",
     "output_type": "stream",
     "text": [
      "P(R = False, J = True)\n",
      "= P(R = False, J = True, M = False, T = False, A = False) + P(R = False, J = True, M = False, T = False, A = True) + P(R = False, J = True, M = False, T = True, A = False) + P(R = False, J = True, M = False, T = True, A = True) + P(R = False, J = True, M = True, T = False, A = False) + P(R = False, J = True, M = True, T = False, A = True) + P(R = False, J = True, M = True, T = True, A = False) + P(R = False, J = True, M = True, T = True, A = True)\n",
      "\n",
      "\n",
      "Cálculos auxiliares:\n",
      "P(R = False, J = True, M = False, T = False, A = False)\n",
      "=P(R = False) * P(J = True | A = False) * P(M = False | A = False) * P(T = False) * P(A = False | R = False, T = False)\n",
      "=0.999 * 0.05 * 0.99 * 0.998 * 0.999\n",
      "=0.049302247401000004\n",
      "\n",
      "P(R = False, J = True, M = False, T = False, A = True)\n",
      "=P(R = False) * P(J = True | A = True) * P(M = False | A = True) * P(T = False) * P(A = True | R = False, T = False)\n",
      "=0.999 * 0.9 * 0.30000000000000004 * 0.998 * 0.001\n",
      "=0.00026919054000000005\n",
      "\n",
      "P(R = False, J = True, M = False, T = True, A = False)\n",
      "=P(R = False) * P(J = True | A = False) * P(M = False | A = False) * P(T = True) * P(A = False | R = False, T = True)\n",
      "=0.999 * 0.05 * 0.99 * 0.002 * 0.71\n",
      "=7.021971e-05\n",
      "\n",
      "P(R = False, J = True, M = False, T = True, A = True)\n",
      "=P(R = False) * P(J = True | A = True) * P(M = False | A = True) * P(T = True) * P(A = True | R = False, T = True)\n",
      "=0.999 * 0.9 * 0.30000000000000004 * 0.002 * 0.29\n",
      "=0.0001564434\n",
      "\n",
      "P(R = False, J = True, M = True, T = False, A = False)\n",
      "=P(R = False) * P(J = True | A = False) * P(M = True | A = False) * P(T = False) * P(A = False | R = False, T = False)\n",
      "=0.999 * 0.05 * 0.01 * 0.998 * 0.999\n",
      "=0.0004980024990000001\n",
      "\n",
      "P(R = False, J = True, M = True, T = False, A = True)\n",
      "=P(R = False) * P(J = True | A = True) * P(M = True | A = True) * P(T = False) * P(A = True | R = False, T = False)\n",
      "=0.999 * 0.9 * 0.7 * 0.998 * 0.001\n",
      "=0.0006281112599999999\n",
      "\n",
      "P(R = False, J = True, M = True, T = True, A = False)\n",
      "=P(R = False) * P(J = True | A = False) * P(M = True | A = False) * P(T = True) * P(A = False | R = False, T = True)\n",
      "=0.999 * 0.05 * 0.01 * 0.002 * 0.71\n",
      "=7.092900000000001e-07\n",
      "\n",
      "P(R = False, J = True, M = True, T = True, A = True)\n",
      "=P(R = False) * P(J = True | A = True) * P(M = True | A = True) * P(T = True) * P(A = True | R = False, T = True)\n",
      "=0.999 * 0.9 * 0.7 * 0.002 * 0.29\n",
      "=0.00036503459999999996\n",
      "\n"
     ]
    },
    {
     "data": {
      "text/plain": [
       "0.0512899587"
      ]
     },
     "execution_count": 9,
     "metadata": {},
     "output_type": "execute_result"
    }
   ],
   "source": [
    "pronostico.calcular('P(no R, J)')"
   ]
  },
  {
   "cell_type": "code",
   "execution_count": 10,
   "id": "10462d99",
   "metadata": {},
   "outputs": [
    {
     "data": {
      "text/plain": [
       "0.052147458699999996"
      ]
     },
     "execution_count": 10,
     "metadata": {},
     "output_type": "execute_result"
    }
   ],
   "source": [
    "Out[8]+Out[9]"
   ]
  },
  {
   "cell_type": "code",
   "execution_count": 2,
   "id": "99890a67",
   "metadata": {},
   "outputs": [],
   "source": [
    "tablas2 = \"\"\"A, 0.2\n",
    "A,           B, 0.8\n",
    "no A,        B, 0.2\n",
    "A,           C, 0.2\n",
    "no A,        C, 0.05\n",
    "C,           E, 0.8\n",
    "no C,        E, 0.6\n",
    "B, C,        D, 0.8\n",
    "B, no C,     D, 0.8\n",
    "no B, C,     D, 0.8\n",
    "no B, no C,  D, 0.05\n",
    "\"\"\""
   ]
  },
  {
   "cell_type": "code",
   "execution_count": 3,
   "id": "eeac9aaf",
   "metadata": {},
   "outputs": [],
   "source": [
    "pronostico2= BayesianNetwork(tablas2)"
   ]
  },
  {
   "cell_type": "code",
   "execution_count": 4,
   "id": "05496a40",
   "metadata": {},
   "outputs": [
    {
     "name": "stdout",
     "output_type": "stream",
     "text": [
      "P(E = True, D = False, B = False, C = False)\n",
      "= P(E = True, D = False, B = False, C = False, A = False) + P(E = True, D = False, B = False, C = False, A = True)\n",
      "\n",
      "\n",
      "Cálculos auxiliares:\n",
      "P(E = True, D = False, B = False, C = False, A = False)\n",
      "=P(E = True | C = False) * P(D = False | B = False, C = False) * P(B = False | A = False) * P(C = False | A = False) * P(A = False)\n",
      "=0.6 * 0.95 * 0.8 * 0.95 * 0.8\n",
      "=0.34656\n",
      "\n",
      "P(E = True, D = False, B = False, C = False, A = True)\n",
      "=P(E = True | C = False) * P(D = False | B = False, C = False) * P(B = False | A = True) * P(C = False | A = True) * P(A = True)\n",
      "=0.6 * 0.95 * 0.19999999999999996 * 0.8 * 0.2\n",
      "=0.018239999999999996\n",
      "\n"
     ]
    },
    {
     "data": {
      "text/plain": [
       "0.36479999999999996"
      ]
     },
     "execution_count": 4,
     "metadata": {},
     "output_type": "execute_result"
    }
   ],
   "source": [
    "pronostico2.calcular('P(E, no D, no B, no C)')"
   ]
  },
  {
   "cell_type": "code",
   "execution_count": 4,
   "id": "868d82b8",
   "metadata": {
    "scrolled": false
   },
   "outputs": [
    {
     "name": "stdout",
     "output_type": "stream",
     "text": [
      "P(E = True, D = False)\n",
      "= P(E = True, D = False, B = False, C = False, A = False) + P(E = True, D = False, B = False, C = False, A = True) + P(E = True, D = False, B = False, C = True, A = False) + P(E = True, D = False, B = False, C = True, A = True) + P(E = True, D = False, B = True, C = False, A = False) + P(E = True, D = False, B = True, C = False, A = True) + P(E = True, D = False, B = True, C = True, A = False) + P(E = True, D = False, B = True, C = True, A = True)\n",
      "\n",
      "\n",
      "Cálculos auxiliares:\n",
      "P(E = True, D = False, B = False, C = False, A = False)\n",
      "=P(E = True | C = False) * P(D = False | B = False, C = False) * P(B = False | A = False) * P(C = False | A = False) * P(A = False)\n",
      "=0.6 * 0.95 * 0.8 * 0.95 * 0.8\n",
      "=0.34656\n",
      "\n",
      "P(E = True, D = False, B = False, C = False, A = True)\n",
      "=P(E = True | C = False) * P(D = False | B = False, C = False) * P(B = False | A = True) * P(C = False | A = True) * P(A = True)\n",
      "=0.6 * 0.95 * 0.19999999999999996 * 0.8 * 0.2\n",
      "=0.018239999999999996\n",
      "\n",
      "P(E = True, D = False, B = False, C = True, A = False)\n",
      "=P(E = True | C = True) * P(D = False | B = False, C = True) * P(B = False | A = False) * P(C = True | A = False) * P(A = False)\n",
      "=0.8 * 0.19999999999999996 * 0.8 * 0.05 * 0.8\n",
      "=0.0051199999999999996\n",
      "\n",
      "P(E = True, D = False, B = False, C = True, A = True)\n",
      "=P(E = True | C = True) * P(D = False | B = False, C = True) * P(B = False | A = True) * P(C = True | A = True) * P(A = True)\n",
      "=0.8 * 0.19999999999999996 * 0.19999999999999996 * 0.2 * 0.2\n",
      "=0.0012799999999999997\n",
      "\n",
      "P(E = True, D = False, B = True, C = False, A = False)\n",
      "=P(E = True | C = False) * P(D = False | B = True, C = False) * P(B = True | A = False) * P(C = False | A = False) * P(A = False)\n",
      "=0.6 * 0.19999999999999996 * 0.2 * 0.95 * 0.8\n",
      "=0.018239999999999996\n",
      "\n",
      "P(E = True, D = False, B = True, C = False, A = True)\n",
      "=P(E = True | C = False) * P(D = False | B = True, C = False) * P(B = True | A = True) * P(C = False | A = True) * P(A = True)\n",
      "=0.6 * 0.19999999999999996 * 0.8 * 0.8 * 0.2\n",
      "=0.015359999999999997\n",
      "\n",
      "P(E = True, D = False, B = True, C = True, A = False)\n",
      "=P(E = True | C = True) * P(D = False | B = True, C = True) * P(B = True | A = False) * P(C = True | A = False) * P(A = False)\n",
      "=0.8 * 0.19999999999999996 * 0.2 * 0.05 * 0.8\n",
      "=0.0012799999999999999\n",
      "\n",
      "P(E = True, D = False, B = True, C = True, A = True)\n",
      "=P(E = True | C = True) * P(D = False | B = True, C = True) * P(B = True | A = True) * P(C = True | A = True) * P(A = True)\n",
      "=0.8 * 0.19999999999999996 * 0.8 * 0.2 * 0.2\n",
      "=0.0051199999999999996\n",
      "\n",
      "P(E = True, D = False, A = True)\n",
      "= P(E = True, D = False, A = True, B = False, C = False) + P(E = True, D = False, A = True, B = False, C = True) + P(E = True, D = False, A = True, B = True, C = False) + P(E = True, D = False, A = True, B = True, C = True)\n",
      "\n",
      "\n",
      "Cálculos auxiliares:\n",
      "P(E = True, D = False, A = True, B = False, C = False)\n",
      "=P(E = True | C = False) * P(D = False | B = False, C = False) * P(A = True) * P(B = False | A = True) * P(C = False | A = True)\n",
      "=0.6 * 0.95 * 0.2 * 0.19999999999999996 * 0.8\n",
      "=0.018239999999999996\n",
      "\n",
      "P(E = True, D = False, A = True, B = False, C = True)\n",
      "=P(E = True | C = True) * P(D = False | B = False, C = True) * P(A = True) * P(B = False | A = True) * P(C = True | A = True)\n",
      "=0.8 * 0.19999999999999996 * 0.2 * 0.19999999999999996 * 0.2\n",
      "=0.0012799999999999997\n",
      "\n",
      "P(E = True, D = False, A = True, B = True, C = False)\n",
      "=P(E = True | C = False) * P(D = False | B = True, C = False) * P(A = True) * P(B = True | A = True) * P(C = False | A = True)\n",
      "=0.6 * 0.19999999999999996 * 0.2 * 0.8 * 0.8\n",
      "=0.015359999999999997\n",
      "\n",
      "P(E = True, D = False, A = True, B = True, C = True)\n",
      "=P(E = True | C = True) * P(D = False | B = True, C = True) * P(A = True) * P(B = True | A = True) * P(C = True | A = True)\n",
      "=0.8 * 0.19999999999999996 * 0.2 * 0.8 * 0.2\n",
      "=0.0051199999999999996\n",
      "\n"
     ]
    },
    {
     "data": {
      "text/plain": [
       "0.09727626459143969"
      ]
     },
     "execution_count": 4,
     "metadata": {},
     "output_type": "execute_result"
    }
   ],
   "source": [
    "pronostico2.calcular('P(A | E, no D)')"
   ]
  },
  {
   "cell_type": "code",
   "execution_count": 6,
   "id": "cf25b6ef",
   "metadata": {},
   "outputs": [
    {
     "data": {
      "text/plain": [
       "0.039999999999999994"
      ]
     },
     "execution_count": 6,
     "metadata": {},
     "output_type": "execute_result"
    }
   ],
   "source": [
    "0.018239999999999996+0.0012799999999999997+0.015359999999999997+0.0051199999999999996"
   ]
  },
  {
   "cell_type": "code",
   "execution_count": null,
   "id": "2254ac84",
   "metadata": {},
   "outputs": [],
   "source": [
    "0.34656+0.018239999999999996+0.0051199999999999996+"
   ]
  }
 ],
 "metadata": {
  "kernelspec": {
   "display_name": "Python 3",
   "language": "python",
   "name": "python3"
  },
  "language_info": {
   "codemirror_mode": {
    "name": "ipython",
    "version": 3
   },
   "file_extension": ".py",
   "mimetype": "text/x-python",
   "name": "python",
   "nbconvert_exporter": "python",
   "pygments_lexer": "ipython3",
   "version": "3.7.6"
  }
 },
 "nbformat": 4,
 "nbformat_minor": 5
}
