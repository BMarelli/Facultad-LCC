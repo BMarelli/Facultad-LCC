{
  "cells": [
    {
      "cell_type": "markdown",
      "metadata": {
        "id": "D_u1naY4MdL3"
      },
      "source": [
        "# Trabajo Practico 5 - Bautista Marelli"
      ]
    },
    {
      "cell_type": "code",
      "execution_count": 2,
      "metadata": {
        "id": "PCepm4TpMdL7"
      },
      "outputs": [],
      "source": [
        "# Importamos las librerias que necesitamos\n",
        "import tensorflow as tf\n",
        "\n",
        "from tensorflow import keras\n",
        "from tensorflow.keras import datasets, layers, models\n",
        "import matplotlib.pyplot as plt\n",
        "\n",
        "# Separar train, val, test sets\n",
        "from sklearn.model_selection import train_test_split"
      ]
    },
    {
      "cell_type": "code",
      "source": [
        "def plot_error_model(model, history, title):\n",
        "  train_errors = [1 - x for x in history.history['accuracy']]\n",
        "  val_errors = [1 - x for x in history.history['val_accuracy']]\n",
        "\n",
        "  x_vals = range(1, len(train_errors)+1)\n",
        "\n",
        "  plt.plot(x_vals, train_errors, label='Train Errors')\n",
        "  plt.plot(x_vals, val_errors, label = 'Val Errors')\n",
        "  plt.ylabel('Error')\n",
        "  plt.legend()\n",
        "  plt.title(title)\n",
        "  plt.show()\n"
      ],
      "metadata": {
        "id": "oJ5AfhZsXSdC"
      },
      "execution_count": 3,
      "outputs": []
    },
    {
      "cell_type": "markdown",
      "source": [
        "# Ejercicio 1"
      ],
      "metadata": {
        "id": "IQVG8bDAubY3"
      }
    },
    {
      "cell_type": "code",
      "source": [
        "def ejercicio_1():\n",
        "  (train_images, train_labels), (test_images, test_labels) = datasets.cifar10.load_data()\n",
        "\n",
        "  # Normalizamos\n",
        "  train_images, test_images = train_images / 255.0, test_images / 255.0\n",
        "\n",
        "  # Separamos los train y val sets\n",
        "  train_images, val_images, train_labels, val_labels = train_test_split(train_images, train_labels, test_size=0.2, random_state=0)\n",
        "\n",
        "  # Creamos el modelo\n",
        "  model = models.Sequential()\n",
        "  model.add(layers.Conv2D(32, (3, 3), activation='relu', padding='same', input_shape=(32, 32, 3)))\n",
        "  model.add(layers.MaxPooling2D((2, 2)))\n",
        "  model.add(layers.Conv2D(64, (3, 3), activation='relu', padding='same'))\n",
        "  model.add(layers.Conv2D(64, (3, 3), activation='relu', padding='same'))\n",
        "  model.add(layers.MaxPooling2D((2, 2)))\n",
        "  model.add(layers.Conv2D(64, (3, 3), activation='relu', padding='same'))\n",
        "  model.add(layers.Conv2D(64, (3, 3), activation='relu', padding='same'))\n",
        "  model.add(layers.Flatten())\n",
        "  model.add(layers.Dense(64))\n",
        "  model.add(layers.Dense(128))\n",
        "  model.add(layers.Dense(128))\n",
        "  model.add(layers.Dense(10))\n",
        "\n",
        "  # Compilamos el modelo\n",
        "  model.compile(optimizer='adam',\n",
        "              loss=tf.keras.losses.SparseCategoricalCrossentropy(from_logits=True),\n",
        "              metrics=['accuracy'])\n",
        "\n",
        "  history = model.fit(\n",
        "      train_images, \n",
        "      train_labels, \n",
        "      epochs=10, \n",
        "      validation_data=(val_images, val_labels)\n",
        "  )\n",
        "  \n",
        "  test_loss, test_acc = model.evaluate(test_images,  test_labels, verbose=2)\n",
        "  print(f\"Modelo Final - Test Error: {1 - test_acc}\")\n",
        "  \n",
        "  return model, history\n",
        "\n",
        "model1, history1 = ejercicio_1()\n",
        "plot_error_model(model1, history1, 'Ejercicio 1')\n"
      ],
      "metadata": {
        "id": "jkWNBxZ9QP_a",
        "outputId": "8c0f185a-a254-4dcd-d6bf-e836e46ae15f",
        "colab": {
          "base_uri": "https://localhost:8080/",
          "height": 663
        }
      },
      "execution_count": 4,
      "outputs": [
        {
          "output_type": "stream",
          "name": "stdout",
          "text": [
            "Epoch 1/10\n",
            "1250/1250 [==============================] - 7s 5ms/step - loss: 1.5598 - accuracy: 0.4242 - val_loss: 1.2214 - val_accuracy: 0.5561\n",
            "Epoch 2/10\n",
            "1250/1250 [==============================] - 6s 5ms/step - loss: 1.1369 - accuracy: 0.5921 - val_loss: 1.0277 - val_accuracy: 0.6317\n",
            "Epoch 3/10\n",
            "1250/1250 [==============================] - 6s 5ms/step - loss: 0.9510 - accuracy: 0.6633 - val_loss: 1.0128 - val_accuracy: 0.6420\n",
            "Epoch 4/10\n",
            "1250/1250 [==============================] - 6s 5ms/step - loss: 0.8421 - accuracy: 0.7003 - val_loss: 0.9556 - val_accuracy: 0.6649\n",
            "Epoch 5/10\n",
            "1250/1250 [==============================] - 6s 5ms/step - loss: 0.7481 - accuracy: 0.7362 - val_loss: 0.8836 - val_accuracy: 0.6903\n",
            "Epoch 6/10\n",
            "1250/1250 [==============================] - 6s 5ms/step - loss: 0.6748 - accuracy: 0.7589 - val_loss: 0.9471 - val_accuracy: 0.6844\n",
            "Epoch 7/10\n",
            "1250/1250 [==============================] - 6s 5ms/step - loss: 0.6071 - accuracy: 0.7854 - val_loss: 0.9427 - val_accuracy: 0.7011\n",
            "Epoch 8/10\n",
            "1250/1250 [==============================] - 6s 5ms/step - loss: 0.5449 - accuracy: 0.8073 - val_loss: 0.9338 - val_accuracy: 0.7002\n",
            "Epoch 9/10\n",
            "1250/1250 [==============================] - 6s 5ms/step - loss: 0.4868 - accuracy: 0.8261 - val_loss: 1.0064 - val_accuracy: 0.6900\n",
            "Epoch 10/10\n",
            "1250/1250 [==============================] - 6s 5ms/step - loss: 0.4447 - accuracy: 0.8404 - val_loss: 1.0476 - val_accuracy: 0.6972\n",
            "313/313 - 1s - loss: 1.0692 - accuracy: 0.6934 - 811ms/epoch - 3ms/step\n",
            "Modelo Final - Test Error: 0.3065999746322632\n"
          ]
        },
        {
          "output_type": "display_data",
          "data": {
            "text/plain": [
              "<Figure size 432x288 with 1 Axes>"
            ],
            "image/png": "[encoded data removed]"
          },
          "metadata": {
            "needs_background": "light"
          }
        }
      ]
    },
    {
      "cell_type": "markdown",
      "source": [
        "# Conclusiones\n",
        "A simple vista se puede ver el sobreajuste que realiza el modelo. A medida que aumentan las epocas, el modelo sobreajusta a los detalles de los datos de entrenamiento y lleva a tener un modelo con un error de test del `30%`.\n",
        "En mi opinion esto se debe a como fue planteado el modelo, con las capas conv principalmente. Capaz cambiando un poco los filtros, podemos llegar a un mejor model que resuelva mejor el problema. Esto lo podemos ver mas adelante en el ejercicio 3 ya que duplicando la cantidad de filtros del ultimo par de capas conv tiene como resultado una mejora en el modelo.\n",
        "\n",
        "Luego queria destacar que el aumento de epocas no llevo a una mejora al modelo y llevo a un mayor sobreajuste."
      ],
      "metadata": {
        "id": "BrYn2wISf_Sv"
      }
    },
    {
      "cell_type": "markdown",
      "source": [
        "# Ejercicio 2"
      ],
      "metadata": {
        "id": "34sWIU-guhzm"
      }
    },
    {
      "cell_type": "code",
      "source": [
        "def ejercicio_2():\n",
        "  p_vals = [.2, .5]\n",
        "  ms = {}\n",
        "  for p in p_vals:\n",
        "    md = models.Sequential()\n",
        "    md.add(layers.Conv2D(32, (3, 3), activation='relu', padding='same', input_shape=(32, 32, 3)))\n",
        "    md.add(layers.MaxPooling2D((2, 2)))\n",
        "    md.add(layers.Conv2D(64, (3, 3), activation='relu', padding='same'))\n",
        "    md.add(layers.Conv2D(64, (3, 3), activation='relu', padding='same'))\n",
        "    md.add(layers.MaxPooling2D((2, 2)))\n",
        "    md.add(layers.Conv2D(64, (3, 3), activation='relu', padding='same'))\n",
        "    md.add(layers.Conv2D(64, (3, 3), activation='relu', padding='same'))\n",
        "    # Dropout\n",
        "    md.add(layers.Dropout(p))\n",
        "    md.add(layers.Flatten())\n",
        "    md.add(layers.Dense(64))\n",
        "    # Dropout\n",
        "    md.add(layers.Dropout(p))\n",
        "    md.add(layers.Dense(128))\n",
        "    md.add(layers.Dense(128))\n",
        "    md.add(layers.Dense(10))\n",
        "\n",
        "    ms[p] = md\n",
        "  \n",
        "  models_results = []\n",
        "  for p, model in ms.items():\n",
        "    (train_images, train_labels), (test_images, test_labels) = datasets.cifar10.load_data()\n",
        "\n",
        "    # Normalizamos\n",
        "    train_images, test_images = train_images / 255.0, test_images / 255.0\n",
        "\n",
        "    # Separamos los train y val sets\n",
        "    train_images, val_images, train_labels, val_labels = train_test_split(train_images, train_labels, test_size=0.2, random_state=0)\n",
        "\n",
        "    # Compilamos el modelo\n",
        "    model.compile(optimizer='adam',\n",
        "                loss=tf.keras.losses.SparseCategoricalCrossentropy(from_logits=True),\n",
        "                metrics=['accuracy'])\n",
        "\n",
        "    history = model.fit(\n",
        "        train_images, \n",
        "        train_labels, \n",
        "        epochs=20, \n",
        "        validation_data=(val_images, val_labels)\n",
        "    )\n",
        "    \n",
        "    test_loss, test_acc = model.evaluate(test_images,  test_labels, verbose=2)\n",
        "    print(f\"Modelo Final p = {p} - Test Error: {1 - test_acc}\")\n",
        "\n",
        "    models_results.append((model, history))\n",
        "\n",
        "  return models_results"
      ],
      "metadata": {
        "id": "uJEAxXVpgDRs"
      },
      "execution_count": null,
      "outputs": []
    },
    {
      "cell_type": "code",
      "source": [
        "models_results = ejercicio_2()\n",
        "_model1, _history1 = models_results[0]\n",
        "plot_error_model(_model1, _history1, 'Ejercicio 2 - p=.2')\n",
        "_model2, _history2 = models_results[1]\n",
        "plot_error_model(_model2, _history2, 'Ejercicio 2 - p=.5')"
      ],
      "metadata": {
        "colab": {
          "base_uri": "https://localhost:8080/",
          "height": 1000
        },
        "id": "rI4OKZ98l5EB",
        "outputId": "78c5c9bb-7c11-4b80-c85c-9799e6d2b858"
      },
      "execution_count": null,
      "outputs": [
        {
          "output_type": "stream",
          "name": "stdout",
          "text": [
            "Epoch 1/20\n",
            "1250/1250 [==============================] - 7s 5ms/step - loss: 1.5474 - accuracy: 0.4291 - val_loss: 1.2269 - val_accuracy: 0.5533\n",
            "Epoch 2/20\n",
            "1250/1250 [==============================] - 7s 5ms/step - loss: 1.1695 - accuracy: 0.5840 - val_loss: 1.0540 - val_accuracy: 0.6231\n",
            "Epoch 3/20\n",
            "1250/1250 [==============================] - 7s 5ms/step - loss: 0.9944 - accuracy: 0.6495 - val_loss: 0.9944 - val_accuracy: 0.6492\n",
            "Epoch 4/20\n",
            "1250/1250 [==============================] - 7s 5ms/step - loss: 0.8866 - accuracy: 0.6879 - val_loss: 0.9323 - val_accuracy: 0.6744\n",
            "Epoch 5/20\n",
            "1250/1250 [==============================] - 7s 5ms/step - loss: 0.8093 - accuracy: 0.7163 - val_loss: 0.8910 - val_accuracy: 0.6874\n",
            "Epoch 6/20\n",
            "1250/1250 [==============================] - 6s 5ms/step - loss: 0.7480 - accuracy: 0.7369 - val_loss: 0.8535 - val_accuracy: 0.7102\n",
            "Epoch 7/20\n",
            "1250/1250 [==============================] - 7s 5ms/step - loss: 0.6883 - accuracy: 0.7588 - val_loss: 0.8198 - val_accuracy: 0.7225\n",
            "Epoch 8/20\n",
            "1250/1250 [==============================] - 7s 5ms/step - loss: 0.6368 - accuracy: 0.7763 - val_loss: 0.8096 - val_accuracy: 0.7268\n",
            "Epoch 9/20\n",
            "1250/1250 [==============================] - 6s 5ms/step - loss: 0.6004 - accuracy: 0.7885 - val_loss: 0.7972 - val_accuracy: 0.7325\n",
            "Epoch 10/20\n",
            "1250/1250 [==============================] - 6s 5ms/step - loss: 0.5529 - accuracy: 0.8049 - val_loss: 0.8379 - val_accuracy: 0.7359\n",
            "Epoch 11/20\n",
            "1250/1250 [==============================] - 7s 5ms/step - loss: 0.5230 - accuracy: 0.8161 - val_loss: 0.8539 - val_accuracy: 0.7244\n",
            "Epoch 12/20\n",
            "1250/1250 [==============================] - 6s 5ms/step - loss: 0.4930 - accuracy: 0.8263 - val_loss: 0.8026 - val_accuracy: 0.7383\n",
            "Epoch 13/20\n",
            "1250/1250 [==============================] - 6s 5ms/step - loss: 0.4611 - accuracy: 0.8358 - val_loss: 0.8612 - val_accuracy: 0.7367\n",
            "Epoch 14/20\n",
            "1250/1250 [==============================] - 7s 5ms/step - loss: 0.4403 - accuracy: 0.8441 - val_loss: 0.8427 - val_accuracy: 0.7436\n",
            "Epoch 15/20\n",
            "1250/1250 [==============================] - 6s 5ms/step - loss: 0.4121 - accuracy: 0.8532 - val_loss: 0.8869 - val_accuracy: 0.7344\n",
            "Epoch 16/20\n",
            "1250/1250 [==============================] - 7s 5ms/step - loss: 0.3872 - accuracy: 0.8619 - val_loss: 0.9269 - val_accuracy: 0.7218\n",
            "Epoch 17/20\n",
            "1250/1250 [==============================] - 7s 5ms/step - loss: 0.3750 - accuracy: 0.8660 - val_loss: 0.9465 - val_accuracy: 0.7356\n",
            "Epoch 18/20\n",
            "1250/1250 [==============================] - 7s 5ms/step - loss: 0.3537 - accuracy: 0.8738 - val_loss: 0.9165 - val_accuracy: 0.7428\n",
            "Epoch 19/20\n",
            "1250/1250 [==============================] - 7s 5ms/step - loss: 0.3406 - accuracy: 0.8795 - val_loss: 0.9269 - val_accuracy: 0.7382\n",
            "Epoch 20/20\n",
            "1250/1250 [==============================] - 6s 5ms/step - loss: 0.3226 - accuracy: 0.8866 - val_loss: 0.9335 - val_accuracy: 0.7351\n",
            "313/313 - 1s - loss: 0.9726 - accuracy: 0.7298 - 726ms/epoch - 2ms/step\n",
            "Modelo Final p = 0.2 - Test Error: 0.2702000141143799\n",
            "Epoch 1/20\n",
            "1250/1250 [==============================] - 7s 5ms/step - loss: 1.6458 - accuracy: 0.3880 - val_loss: 1.3092 - val_accuracy: 0.5277\n",
            "Epoch 2/20\n",
            "1250/1250 [==============================] - 7s 5ms/step - loss: 1.3063 - accuracy: 0.5300 - val_loss: 1.1834 - val_accuracy: 0.5755\n",
            "Epoch 3/20\n",
            "1250/1250 [==============================] - 6s 5ms/step - loss: 1.1591 - accuracy: 0.5880 - val_loss: 1.0581 - val_accuracy: 0.6178\n",
            "Epoch 4/20\n",
            "1250/1250 [==============================] - 7s 5ms/step - loss: 1.0567 - accuracy: 0.6292 - val_loss: 0.9757 - val_accuracy: 0.6572\n",
            "Epoch 5/20\n",
            "1250/1250 [==============================] - 6s 5ms/step - loss: 0.9771 - accuracy: 0.6602 - val_loss: 0.9345 - val_accuracy: 0.6729\n",
            "Epoch 6/20\n",
            "1250/1250 [==============================] - 7s 5ms/step - loss: 0.9280 - accuracy: 0.6774 - val_loss: 0.8973 - val_accuracy: 0.6857\n",
            "Epoch 7/20\n",
            "1250/1250 [==============================] - 6s 5ms/step - loss: 0.8756 - accuracy: 0.6959 - val_loss: 0.8178 - val_accuracy: 0.7153\n",
            "Epoch 8/20\n",
            "1250/1250 [==============================] - 7s 5ms/step - loss: 0.8387 - accuracy: 0.7082 - val_loss: 0.8422 - val_accuracy: 0.7047\n",
            "Epoch 9/20\n",
            "1250/1250 [==============================] - 6s 5ms/step - loss: 0.7946 - accuracy: 0.7246 - val_loss: 0.7946 - val_accuracy: 0.7163\n",
            "Epoch 10/20\n",
            "1250/1250 [==============================] - 7s 5ms/step - loss: 0.7694 - accuracy: 0.7337 - val_loss: 0.7747 - val_accuracy: 0.7303\n",
            "Epoch 11/20\n",
            "1250/1250 [==============================] - 6s 5ms/step - loss: 0.7372 - accuracy: 0.7452 - val_loss: 0.7737 - val_accuracy: 0.7319\n",
            "Epoch 12/20\n",
            "1250/1250 [==============================] - 6s 5ms/step - loss: 0.7129 - accuracy: 0.7532 - val_loss: 0.8142 - val_accuracy: 0.7202\n",
            "Epoch 13/20\n",
            "1250/1250 [==============================] - 6s 5ms/step - loss: 0.6841 - accuracy: 0.7628 - val_loss: 0.7899 - val_accuracy: 0.7362\n",
            "Epoch 14/20\n",
            "1250/1250 [==============================] - 7s 5ms/step - loss: 0.6573 - accuracy: 0.7720 - val_loss: 0.7569 - val_accuracy: 0.7442\n",
            "Epoch 15/20\n",
            "1250/1250 [==============================] - 7s 5ms/step - loss: 0.6344 - accuracy: 0.7800 - val_loss: 0.7615 - val_accuracy: 0.7412\n",
            "Epoch 16/20\n",
            "1250/1250 [==============================] - 6s 5ms/step - loss: 0.6176 - accuracy: 0.7840 - val_loss: 0.7693 - val_accuracy: 0.7360\n",
            "Epoch 17/20\n",
            "1250/1250 [==============================] - 6s 5ms/step - loss: 0.6001 - accuracy: 0.7925 - val_loss: 0.7827 - val_accuracy: 0.7366\n",
            "Epoch 18/20\n",
            "1250/1250 [==============================] - 7s 5ms/step - loss: 0.5729 - accuracy: 0.7993 - val_loss: 0.8077 - val_accuracy: 0.7301\n",
            "Epoch 19/20\n",
            "1250/1250 [==============================] - 7s 5ms/step - loss: 0.5553 - accuracy: 0.8060 - val_loss: 0.7740 - val_accuracy: 0.7437\n",
            "Epoch 20/20\n",
            "1250/1250 [==============================] - 6s 5ms/step - loss: 0.5422 - accuracy: 0.8139 - val_loss: 0.7670 - val_accuracy: 0.7414\n",
            "313/313 - 1s - loss: 0.7873 - accuracy: 0.7379 - 813ms/epoch - 3ms/step\n",
            "Modelo Final p = 0.5 - Test Error: 0.2620999813079834\n"
          ]
        },
        {
          "output_type": "display_data",
          "data": {
            "text/plain": [
              "<Figure size 432x288 with 1 Axes>"
            ],
            "image/png": "[encoded data removed]"
          },
          "metadata": {
            "needs_background": "light"
          }
        },
        {
          "output_type": "display_data",
          "data": {
            "text/plain": [
              "<Figure size 432x288 with 1 Axes>"
            ],
            "image/png": "[encoded data removed]"
          },
          "metadata": {
            "needs_background": "light"
          }
        }
      ]
    },
    {
      "cell_type": "markdown",
      "source": [
        "# Conclusiones\n",
        "Lo principal que podemos ver es como el modelo con un Dropout de `p=.5` obtenemos un bajo nivel de sobreajuste en comparacion al modelo con `p=.2`. Con respecto al ejercicio anterior podemos ver mejoras en relacion al error de test (el cual disminuyo un 3/4 %) por lo que modemos decir que agrerar la capa de Dropout con cualquiera de los 2 valores lleva a una mejora en el modelo (y si utilizamos `p=.5` mejor).\n",
        "\n",
        "Para concluir, agregar la capa de Dropout no solo mejoro el sobreajuste sino que tambien mejoro la precision del modelo (para ambos valores de p)."
      ],
      "metadata": {
        "id": "xY6mx2xe078u"
      }
    },
    {
      "cell_type": "markdown",
      "source": [
        "# Ejercicio 3"
      ],
      "metadata": {
        "id": "ROd5mckdulGm"
      }
    },
    {
      "cell_type": "code",
      "source": [
        "def ejercicio_3():\n",
        "  (train_images, train_labels), (test_images, test_labels) = datasets.cifar10.load_data()\n",
        "\n",
        "  # Normalizamos\n",
        "  train_images, test_images = train_images / 255.0, test_images / 255.0\n",
        "\n",
        "  # Separamos los train y val sets\n",
        "  train_images, val_images, train_labels, val_labels = train_test_split(train_images, train_labels, test_size=0.2, random_state=0)\n",
        "\n",
        "  # Creamos el modelo\n",
        "  img_height = 32\n",
        "  img_width = 32\n",
        "  data_augmentation = keras.Sequential(\n",
        "      [\n",
        "            layers.RandomFlip(\"horizontal\", input_shape=(img_height, img_width, 3)),\n",
        "            layers.RandomRotation(0.1),\n",
        "            layers.RandomZoom(0.1),\n",
        "      ]\n",
        "  )\n",
        "\n",
        "  model = models.Sequential()\n",
        "  model.add(data_augmentation)\n",
        "  model.add(layers.Conv2D(32, (3, 3), activation='relu', padding='same', input_shape=(32, 32, 3)))\n",
        "  model.add(layers.MaxPooling2D((2, 2)))\n",
        "  model.add(layers.Conv2D(64, (3, 3), activation='relu', padding='same'))\n",
        "  model.add(layers.Conv2D(64, (3, 3), activation='relu', padding='same'))\n",
        "  model.add(layers.MaxPooling2D((2, 2)))\n",
        "  model.add(layers.Conv2D(64, (3, 3), activation='relu', padding='same'))\n",
        "  model.add(layers.Conv2D(64, (3, 3), activation='relu', padding='same'))\n",
        "  # Dropout\n",
        "  model.add(layers.Dropout(.2))\n",
        "  model.add(layers.Flatten())\n",
        "  model.add(layers.Dense(64))\n",
        "  # Dropout\n",
        "  model.add(layers.Dropout(.2))\n",
        "  model.add(layers.Dense(128))\n",
        "  model.add(layers.Dense(128))\n",
        "  model.add(layers.Dense(10))\n",
        "\n",
        "  # Compilamos el modelo\n",
        "  model.compile(optimizer='adam',\n",
        "              loss=tf.keras.losses.SparseCategoricalCrossentropy(from_logits=True),\n",
        "              metrics=['accuracy'])\n",
        "\n",
        "  history = model.fit(\n",
        "      train_images, \n",
        "      train_labels, \n",
        "      epochs=20, \n",
        "      validation_data=(val_images, val_labels)\n",
        "  )\n",
        "  \n",
        "  test_loss, test_acc = model.evaluate(test_images,  test_labels, verbose=2)\n",
        "  print(f\"Modelo Final - Test Error: {1 - test_acc}\")\n",
        "  \n",
        "  return model, history\n",
        "\n",
        "model3, history3 = ejercicio_3()\n",
        "plot_error_model(model3, history3, 'Ejercicio 3 - p=.2')"
      ],
      "metadata": {
        "colab": {
          "base_uri": "https://localhost:8080/",
          "height": 1000
        },
        "id": "MyEMKYtXsgKb",
        "outputId": "be5613cb-5a2a-4e2c-a5a8-3c1ba0850fd8"
      },
      "execution_count": 4,
      "outputs": [
        {
          "output_type": "stream",
          "name": "stdout",
          "text": [
            "Downloading data from https://www.cs.toronto.edu/~kriz/cifar-10-python.tar.gz\n",
            "170500096/170498071 [==============================] - 13s 0us/step\n",
            "170508288/170498071 [==============================] - 13s 0us/step\n",
            "Epoch 1/20\n",
            "1250/1250 [==============================] - 20s 6ms/step - loss: 1.7598 - accuracy: 0.3517 - val_loss: 1.4652 - val_accuracy: 0.4689\n",
            "Epoch 2/20\n",
            "1250/1250 [==============================] - 8s 6ms/step - loss: 1.4815 - accuracy: 0.4611 - val_loss: 1.5024 - val_accuracy: 0.4863\n",
            "Epoch 3/20\n",
            "1250/1250 [==============================] - 8s 6ms/step - loss: 1.3619 - accuracy: 0.5116 - val_loss: 1.2075 - val_accuracy: 0.5724\n",
            "Epoch 4/20\n",
            "1250/1250 [==============================] - 8s 6ms/step - loss: 1.2937 - accuracy: 0.5401 - val_loss: 1.1207 - val_accuracy: 0.5965\n",
            "Epoch 5/20\n",
            "1250/1250 [==============================] - 7s 6ms/step - loss: 1.2416 - accuracy: 0.5587 - val_loss: 1.1484 - val_accuracy: 0.5974\n",
            "Epoch 6/20\n",
            "1250/1250 [==============================] - 7s 6ms/step - loss: 1.1962 - accuracy: 0.5774 - val_loss: 1.0932 - val_accuracy: 0.6091\n",
            "Epoch 7/20\n",
            "1250/1250 [==============================] - 8s 6ms/step - loss: 1.1610 - accuracy: 0.5850 - val_loss: 1.0946 - val_accuracy: 0.6157\n",
            "Epoch 8/20\n",
            "1250/1250 [==============================] - 7s 6ms/step - loss: 1.1334 - accuracy: 0.6023 - val_loss: 1.0229 - val_accuracy: 0.6470\n",
            "Epoch 9/20\n",
            "1250/1250 [==============================] - 8s 6ms/step - loss: 1.0976 - accuracy: 0.6137 - val_loss: 0.9962 - val_accuracy: 0.6538\n",
            "Epoch 10/20\n",
            "1250/1250 [==============================] - 8s 6ms/step - loss: 1.0757 - accuracy: 0.6209 - val_loss: 1.0390 - val_accuracy: 0.6373\n",
            "Epoch 11/20\n",
            "1250/1250 [==============================] - 8s 6ms/step - loss: 1.0543 - accuracy: 0.6303 - val_loss: 0.9098 - val_accuracy: 0.6824\n",
            "Epoch 12/20\n",
            "1250/1250 [==============================] - 8s 6ms/step - loss: 1.0395 - accuracy: 0.6366 - val_loss: 0.9626 - val_accuracy: 0.6680\n",
            "Epoch 13/20\n",
            "1250/1250 [==============================] - 8s 7ms/step - loss: 1.0157 - accuracy: 0.6440 - val_loss: 0.9701 - val_accuracy: 0.6691\n",
            "Epoch 14/20\n",
            "1250/1250 [==============================] - 8s 6ms/step - loss: 1.0123 - accuracy: 0.6446 - val_loss: 0.9470 - val_accuracy: 0.6672\n",
            "Epoch 15/20\n",
            "1250/1250 [==============================] - 7s 6ms/step - loss: 0.9989 - accuracy: 0.6514 - val_loss: 0.9156 - val_accuracy: 0.6843\n",
            "Epoch 16/20\n",
            "1250/1250 [==============================] - 7s 6ms/step - loss: 0.9814 - accuracy: 0.6534 - val_loss: 0.9222 - val_accuracy: 0.6831\n",
            "Epoch 17/20\n",
            "1250/1250 [==============================] - 8s 6ms/step - loss: 0.9704 - accuracy: 0.6577 - val_loss: 0.8812 - val_accuracy: 0.6972\n",
            "Epoch 18/20\n",
            "1250/1250 [==============================] - 7s 6ms/step - loss: 0.9606 - accuracy: 0.6621 - val_loss: 0.8785 - val_accuracy: 0.6953\n",
            "Epoch 19/20\n",
            "1250/1250 [==============================] - 8s 6ms/step - loss: 0.9491 - accuracy: 0.6693 - val_loss: 0.8415 - val_accuracy: 0.7136\n",
            "Epoch 20/20\n",
            "1250/1250 [==============================] - 8s 6ms/step - loss: 0.9371 - accuracy: 0.6696 - val_loss: 0.8509 - val_accuracy: 0.7131\n",
            "313/313 - 1s - loss: 0.8725 - accuracy: 0.7034 - 817ms/epoch - 3ms/step\n",
            "Modelo Final - Test Error: 0.29659998416900635\n"
          ]
        },
        {
          "output_type": "display_data",
          "data": {
            "text/plain": [
              "<Figure size 432x288 with 1 Axes>"
            ],
            "image/png": "[encoded data removed]"
          },
          "metadata": {
            "needs_background": "light"
          }
        }
      ]
    },
    {
      "cell_type": "code",
      "source": [
        "def ejercicio_3():\n",
        "  (train_images, train_labels), (test_images, test_labels) = datasets.cifar10.load_data()\n",
        "\n",
        "  # Normalizamos\n",
        "  train_images, test_images = train_images / 255.0, test_images / 255.0\n",
        "\n",
        "  # Separamos los train y val sets\n",
        "  train_images, val_images, train_labels, val_labels = train_test_split(train_images, train_labels, test_size=0.2, random_state=0)\n",
        "\n",
        "  # Creamos el modelo\n",
        "  img_height = 32\n",
        "  img_width = 32\n",
        "  data_augmentation = keras.Sequential(\n",
        "      [\n",
        "            layers.RandomFlip(\"horizontal\", input_shape=(img_height, img_width, 3)),\n",
        "            layers.RandomRotation(0.1),\n",
        "            layers.RandomZoom(0.1),\n",
        "      ]\n",
        "  )\n",
        "\n",
        "  model = models.Sequential()\n",
        "  model.add(data_augmentation)\n",
        "  model.add(layers.Conv2D(32, (3, 3), activation='relu', padding='same', input_shape=(32, 32, 3)))\n",
        "  model.add(layers.MaxPooling2D((2, 2)))\n",
        "  model.add(layers.Conv2D(64, (3, 3), activation='relu', padding='same'))\n",
        "  model.add(layers.Conv2D(64, (3, 3), activation='relu', padding='same'))\n",
        "  model.add(layers.MaxPooling2D((2, 2)))\n",
        "  model.add(layers.Conv2D(64, (3, 3), activation='relu', padding='same'))\n",
        "  model.add(layers.Conv2D(64, (3, 3), activation='relu', padding='same'))\n",
        "  # Dropout\n",
        "  model.add(layers.Dropout(.5))\n",
        "  model.add(layers.Flatten())\n",
        "  model.add(layers.Dense(64))\n",
        "  # Dropout\n",
        "  model.add(layers.Dropout(.5))\n",
        "  model.add(layers.Dense(128))\n",
        "  model.add(layers.Dense(128))\n",
        "  model.add(layers.Dense(10))\n",
        "\n",
        "  # Compilamos el modelo\n",
        "  model.compile(optimizer='adam',\n",
        "              loss=tf.keras.losses.SparseCategoricalCrossentropy(from_logits=True),\n",
        "              metrics=['accuracy'])\n",
        "\n",
        "  history = model.fit(\n",
        "      train_images, \n",
        "      train_labels, \n",
        "      epochs=20, \n",
        "      validation_data=(val_images, val_labels)\n",
        "  )\n",
        "  \n",
        "  test_loss, test_acc = model.evaluate(test_images,  test_labels, verbose=2)\n",
        "  print(f\"Modelo Final - Test Error: {1 - test_acc}\")\n",
        "  \n",
        "  return model, history\n",
        "\n",
        "model3, history3 = ejercicio_3()\n",
        "plot_error_model(model3, history3, 'Ejercicio 3 - p=.5')"
      ],
      "metadata": {
        "colab": {
          "base_uri": "https://localhost:8080/",
          "height": 1000
        },
        "id": "G6x_19yR093J",
        "outputId": "0f58d64d-cc4f-45f6-aa62-80eceb1c924e"
      },
      "execution_count": 5,
      "outputs": [
        {
          "output_type": "stream",
          "name": "stdout",
          "text": [
            "Epoch 1/20\n",
            "1250/1250 [==============================] - 9s 7ms/step - loss: 1.8380 - accuracy: 0.3155 - val_loss: 1.5716 - val_accuracy: 0.4278\n",
            "Epoch 2/20\n",
            "1250/1250 [==============================] - 7s 6ms/step - loss: 1.5760 - accuracy: 0.4237 - val_loss: 1.3920 - val_accuracy: 0.4930\n",
            "Epoch 3/20\n",
            "1250/1250 [==============================] - 7s 6ms/step - loss: 1.4795 - accuracy: 0.4621 - val_loss: 1.3240 - val_accuracy: 0.5245\n",
            "Epoch 4/20\n",
            "1250/1250 [==============================] - 8s 6ms/step - loss: 1.4166 - accuracy: 0.4918 - val_loss: 1.2292 - val_accuracy: 0.5506\n",
            "Epoch 5/20\n",
            "1250/1250 [==============================] - 8s 6ms/step - loss: 1.3680 - accuracy: 0.5093 - val_loss: 1.2607 - val_accuracy: 0.5446\n",
            "Epoch 6/20\n",
            "1250/1250 [==============================] - 7s 6ms/step - loss: 1.3225 - accuracy: 0.5277 - val_loss: 1.2004 - val_accuracy: 0.5813\n",
            "Epoch 7/20\n",
            "1250/1250 [==============================] - 8s 6ms/step - loss: 1.2846 - accuracy: 0.5448 - val_loss: 1.1498 - val_accuracy: 0.5976\n",
            "Epoch 8/20\n",
            "1250/1250 [==============================] - 7s 6ms/step - loss: 1.2575 - accuracy: 0.5556 - val_loss: 1.1249 - val_accuracy: 0.6045\n",
            "Epoch 9/20\n",
            "1250/1250 [==============================] - 7s 6ms/step - loss: 1.2363 - accuracy: 0.5639 - val_loss: 1.0634 - val_accuracy: 0.6228\n",
            "Epoch 10/20\n",
            "1250/1250 [==============================] - 7s 6ms/step - loss: 1.2111 - accuracy: 0.5732 - val_loss: 1.0536 - val_accuracy: 0.6355\n",
            "Epoch 11/20\n",
            "1250/1250 [==============================] - 8s 6ms/step - loss: 1.1894 - accuracy: 0.5816 - val_loss: 1.1206 - val_accuracy: 0.6206\n",
            "Epoch 12/20\n",
            "1250/1250 [==============================] - 7s 6ms/step - loss: 1.1610 - accuracy: 0.5913 - val_loss: 0.9689 - val_accuracy: 0.6600\n",
            "Epoch 13/20\n",
            "1250/1250 [==============================] - 7s 6ms/step - loss: 1.1506 - accuracy: 0.5956 - val_loss: 0.9895 - val_accuracy: 0.6586\n",
            "Epoch 14/20\n",
            "1250/1250 [==============================] - 7s 6ms/step - loss: 1.1434 - accuracy: 0.6045 - val_loss: 0.9407 - val_accuracy: 0.6702\n",
            "Epoch 15/20\n",
            "1250/1250 [==============================] - 8s 6ms/step - loss: 1.1216 - accuracy: 0.6109 - val_loss: 0.9968 - val_accuracy: 0.6571\n",
            "Epoch 16/20\n",
            "1250/1250 [==============================] - 7s 6ms/step - loss: 1.1045 - accuracy: 0.6165 - val_loss: 0.9775 - val_accuracy: 0.6621\n",
            "Epoch 17/20\n",
            "1250/1250 [==============================] - 7s 6ms/step - loss: 1.1002 - accuracy: 0.6151 - val_loss: 0.9551 - val_accuracy: 0.6745\n",
            "Epoch 18/20\n",
            "1250/1250 [==============================] - 7s 6ms/step - loss: 1.0801 - accuracy: 0.6248 - val_loss: 0.9690 - val_accuracy: 0.6741\n",
            "Epoch 19/20\n",
            "1250/1250 [==============================] - 8s 6ms/step - loss: 1.0719 - accuracy: 0.6277 - val_loss: 0.9785 - val_accuracy: 0.6623\n",
            "Epoch 20/20\n",
            "1250/1250 [==============================] - 7s 6ms/step - loss: 1.0509 - accuracy: 0.6362 - val_loss: 0.9044 - val_accuracy: 0.6933\n",
            "313/313 - 1s - loss: 0.9245 - accuracy: 0.6832 - 808ms/epoch - 3ms/step\n",
            "Modelo Final - Test Error: 0.31679999828338623\n"
          ]
        },
        {
          "output_type": "display_data",
          "data": {
            "text/plain": [
              "<Figure size 432x288 with 1 Axes>"
            ],
            "image/png": "[encoded data removed]"
          },
          "metadata": {
            "needs_background": "light"
          }
        }
      ]
    },
    {
      "cell_type": "markdown",
      "source": [
        "# Conclusiones\n",
        "Como podemos ver el uso de data augmentation no genero mejoras al modelo, en realidad empeoro el error de test. Solo podemos destacar que el uso de data augmentation mejoro el sobreajuste del model, que bueno esto es bueno pero si en nuestro nuevo modelo aumenta el error de test, me parece mejor no realizar este metodo y dejar el modelo como estaba ya que podia realizar mejores predicciones.\n",
        "\n",
        "Decidi para este ejercicio, usar los 2 valores de p en la capa de Dropout para poder compararlos. Primero que nada en ambos casos no hay mejoras del error en relacion al ejercicio anterior. Pero podemos ver que con data augmentation, el modelo con `p=.2` tiene un menor error que el modelo con `p=.5`. \n",
        "\n",
        "**Por esta razon, en el ejercicio 5 voy a utilizar `p=.2` ya que nos dio mejores resultados con data augmentation**."
      ],
      "metadata": {
        "id": "0_3TA7ZJ3NNf"
      }
    },
    {
      "cell_type": "markdown",
      "source": [
        "# Ejercicio 4"
      ],
      "metadata": {
        "id": "S6yMg0vVuqNj"
      }
    },
    {
      "cell_type": "code",
      "source": [
        "def ejercicio_1_mejorado():\n",
        "  (train_images, train_labels), (test_images, test_labels) = datasets.cifar10.load_data()\n",
        "\n",
        "  # Normalizamos\n",
        "  train_images, test_images = train_images / 255.0, test_images / 255.0\n",
        "\n",
        "  # Separamos los train y val sets\n",
        "  train_images, val_images, train_labels, val_labels = train_test_split(train_images, train_labels, test_size=0.2, random_state=0)\n",
        "\n",
        "  # Creamos el modelo\n",
        "  model = models.Sequential()\n",
        "  model.add(layers.Conv2D(32, (3, 3), activation='relu', padding='same', input_shape=(32, 32, 3)))\n",
        "  model.add(layers.Conv2D(32, (3, 3), activation='relu', padding='same'))\n",
        "  model.add(layers.MaxPooling2D((2, 2)))\n",
        "  model.add(layers.Conv2D(64, (3, 3), activation='relu', padding='same'))\n",
        "  model.add(layers.Conv2D(64, (3, 3), activation='relu', padding='same'))\n",
        "  model.add(layers.MaxPooling2D((2, 2)))\n",
        "  model.add(layers.Conv2D(128, (3, 3), activation='relu', padding='same'))\n",
        "  model.add(layers.Conv2D(128, (3, 3), activation='relu', padding='same'))\n",
        "  model.add(layers.Flatten())\n",
        "  # model.add(layers.Dense(64))\n",
        "  # model.add(layers.Dense(128))\n",
        "  model.add(layers.Dense(128))\n",
        "  model.add(layers.Dense(10))\n",
        "\n",
        "  # Compilamos el modelo\n",
        "  model.compile(optimizer='adam',\n",
        "              loss=tf.keras.losses.SparseCategoricalCrossentropy(from_logits=True),\n",
        "              metrics=['accuracy'])\n",
        "\n",
        "  history = model.fit(\n",
        "      train_images, \n",
        "      train_labels, \n",
        "      epochs=10, \n",
        "      validation_data=(val_images, val_labels)\n",
        "  )\n",
        "  \n",
        "  test_loss, test_acc = model.evaluate(test_images,  test_labels, verbose=2)\n",
        "  print(f\"Modelo Final - Test Error: {1 - test_acc}\")\n",
        "  \n",
        "  return model, history\n",
        "\n",
        "model1_mejorado, model1_mejorado = ejercicio_1_mejorado()\n",
        "plot_error_model(model1_mejorado, model1_mejorado, 'Ejercicio 1 mejorado')"
      ],
      "metadata": {
        "colab": {
          "base_uri": "https://localhost:8080/",
          "height": 663
        },
        "id": "hVGDsdBRsf_L",
        "outputId": "2f7db663-b69a-4f46-c3b1-fdc2950c2d13"
      },
      "execution_count": 9,
      "outputs": [
        {
          "output_type": "stream",
          "name": "stdout",
          "text": [
            "Epoch 1/10\n",
            "1250/1250 [==============================] - 8s 6ms/step - loss: 1.4682 - accuracy: 0.4657 - val_loss: 1.2120 - val_accuracy: 0.5724\n",
            "Epoch 2/10\n",
            "1250/1250 [==============================] - 7s 5ms/step - loss: 0.9926 - accuracy: 0.6496 - val_loss: 0.8886 - val_accuracy: 0.6877\n",
            "Epoch 3/10\n",
            "1250/1250 [==============================] - 7s 6ms/step - loss: 0.8121 - accuracy: 0.7138 - val_loss: 0.7968 - val_accuracy: 0.7238\n",
            "Epoch 4/10\n",
            "1250/1250 [==============================] - 7s 5ms/step - loss: 0.6806 - accuracy: 0.7622 - val_loss: 0.7929 - val_accuracy: 0.7262\n",
            "Epoch 5/10\n",
            "1250/1250 [==============================] - 7s 6ms/step - loss: 0.5794 - accuracy: 0.7948 - val_loss: 0.7660 - val_accuracy: 0.7384\n",
            "Epoch 6/10\n",
            "1250/1250 [==============================] - 7s 6ms/step - loss: 0.4918 - accuracy: 0.8272 - val_loss: 0.7972 - val_accuracy: 0.7400\n",
            "Epoch 7/10\n",
            "1250/1250 [==============================] - 7s 5ms/step - loss: 0.4195 - accuracy: 0.8506 - val_loss: 0.8812 - val_accuracy: 0.7389\n",
            "Epoch 8/10\n",
            "1250/1250 [==============================] - 7s 5ms/step - loss: 0.3512 - accuracy: 0.8755 - val_loss: 0.9042 - val_accuracy: 0.7405\n",
            "Epoch 9/10\n",
            "1250/1250 [==============================] - 8s 6ms/step - loss: 0.2979 - accuracy: 0.8928 - val_loss: 0.9839 - val_accuracy: 0.7434\n",
            "Epoch 10/10\n",
            "1250/1250 [==============================] - 7s 5ms/step - loss: 0.2645 - accuracy: 0.9056 - val_loss: 1.0798 - val_accuracy: 0.7312\n",
            "313/313 - 1s - loss: 1.1264 - accuracy: 0.7291 - 741ms/epoch - 2ms/step\n",
            "Modelo Final - Test Error: 0.27090001106262207\n"
          ]
        },
        {
          "output_type": "display_data",
          "data": {
            "text/plain": [
              "<Figure size 432x288 with 1 Axes>"
            ],
            "image/png": "[encoded data removed]"
          },
          "metadata": {
            "needs_background": "light"
          }
        }
      ]
    },
    {
      "cell_type": "markdown",
      "source": [
        "# Conclusiones\n",
        "Agregando una segunda capa `model.add(layers.Conv2D(32, (3, 3), activation='relu', padding='same'))`, duplicando la cantidad de filtros del ultimo par de capas conv (64 => 128) y por ultimo sacando 2 capa densa se logro una mejora del modelo de un 3% aprox.\n",
        "\n",
        "En mi opinion, al agregar una capa de 32 filtros, le permitimos al modelo obtener mas informacion al principio para luego poder generalizarla mejor cuando se van aumentando los filtros y avanzamos a las siguientes capas.\n",
        "\n",
        "\n",
        "Tambien queria destacar que con otro diseño del modelo (utilizando Dropout), el error de test fue mucho menor al modelo actual, siendo este: `Modelo Final - Test Error: 0.23659998178482056`.\n",
        "\n",
        "Este fue el diseño del modelo:\n",
        "```python\n",
        "model = models.Sequential()\n",
        "model.add(layers.Conv2D(32, (3, 3), activation='relu', padding='same', input_shape=(32, 32, 3)))\n",
        "model.add(layers.Conv2D(32, (3, 3), activation='relu', padding='same'))\n",
        "model.add(layers.MaxPooling2D((2, 2)))\n",
        "model.add(layers.Conv2D(64, (3, 3), activation='relu', padding='same'))\n",
        "model.add(layers.Conv2D(64, (3, 3), activation='relu', padding='same'))\n",
        "model.add(layers.MaxPooling2D((2, 2)))\n",
        "model.add(layers.Conv2D(64, (3, 3), activation='relu', padding='same'))\n",
        "model.add(layers.Conv2D(64, (3, 3), activation='relu', padding='same'))\n",
        "model.add(layers.Flatten())\n",
        "# Dropout\n",
        "model.add(layers.Dropout(.5))\n",
        "model.add(layers.Dense(64))\n",
        "model.add(layers.Dense(128))\n",
        "model.add(layers.Dense(128))\n",
        "model.add(layers.Dense(10))\n",
        "```\n",
        "Este modelo lo deje como comentario en la conclusion ya que no sabia si era valido ya que estaba usando Dropout."
      ],
      "metadata": {
        "id": "PGwxsF5s1FDf"
      }
    },
    {
      "cell_type": "code",
      "source": [
        "def ejercicio_2_mejorado():\n",
        "  p_vals = [.2, .5]\n",
        "  ms = {}\n",
        "  for p in p_vals:\n",
        "    md = models.Sequential()\n",
        "    md.add(layers.Conv2D(32, (3, 3), activation='relu', padding='same', input_shape=(32, 32, 3)))\n",
        "    md.add(layers.Conv2D(32, (3, 3), padding='same', activation='relu'))\n",
        "    md.add(layers.MaxPooling2D((2, 2)))\n",
        "    md.add(layers.Conv2D(64, (3, 3), padding='same', activation='relu'))\n",
        "    md.add(layers.Conv2D(64, (3, 3), padding='same', activation='relu'))\n",
        "    md.add(layers.MaxPooling2D((2, 2)))\n",
        "    md.add(layers.Conv2D(128, (3, 3), padding='same', activation='relu'))\n",
        "    md.add(layers.Conv2D(128, (3, 3), padding='same', activation='relu'))\n",
        "    # Dropout\n",
        "    md.add(layers.Dropout(p))\n",
        "    md.add(layers.Flatten())\n",
        "    # md.add(layers.Dense(64))\n",
        "    md.add(layers.Dense(128))\n",
        "    # Dropout\n",
        "    # md.add(layers.Dropout(p))\n",
        "    md.add(layers.Dense(10))\n",
        "\n",
        "    ms[p] = md\n",
        "  \n",
        "  models_results = []\n",
        "  for p, model in ms.items():\n",
        "    (train_images, train_labels), (test_images, test_labels) = datasets.cifar10.load_data()\n",
        "\n",
        "    # Normalizamos\n",
        "    train_images, test_images = train_images / 255.0, test_images / 255.0\n",
        "\n",
        "    # Separamos los train y val sets\n",
        "    train_images, val_images, train_labels, val_labels = train_test_split(train_images, train_labels, test_size=0.2, random_state=0)\n",
        "\n",
        "    # Compilamos el modelo\n",
        "    model.compile(optimizer='adam',\n",
        "                loss=tf.keras.losses.SparseCategoricalCrossentropy(from_logits=True),\n",
        "                metrics=['accuracy'])\n",
        "\n",
        "    history = model.fit(\n",
        "        train_images, \n",
        "        train_labels, \n",
        "        epochs=20, \n",
        "        validation_data=(val_images, val_labels)\n",
        "    )\n",
        "    \n",
        "    test_loss, test_acc = model.evaluate(test_images,  test_labels, verbose=2)\n",
        "    print(f\"Modelo Final p = {p} - Test Error: {1 - test_acc}\")\n",
        "\n",
        "    models_results.append((model, history))\n",
        "\n",
        "  return models_results"
      ],
      "metadata": {
        "id": "K7UWEnZQ3MO1"
      },
      "execution_count": 11,
      "outputs": []
    },
    {
      "cell_type": "code",
      "source": [
        "models_results = ejercicio_2_mejorado()\n",
        "_model1_mejorado, _history1_mejorado = models_results[0]\n",
        "plot_error_model(_model1_mejorado, _history1_mejorado, 'Ejercicio 2 mejorado - p=.2')\n",
        "_model2_mejorado, _history2_mejorado = models_results[1]\n",
        "plot_error_model(_model2_mejorado, _history2_mejorado, 'Ejercicio 2 mejorado - p=.5')"
      ],
      "metadata": {
        "colab": {
          "base_uri": "https://localhost:8080/",
          "height": 1000
        },
        "id": "P16JVD-ThSdL",
        "outputId": "c5ac400b-d531-42e4-a65d-2adbe537d205"
      },
      "execution_count": 12,
      "outputs": [
        {
          "output_type": "stream",
          "name": "stdout",
          "text": [
            "Epoch 1/20\n",
            "1250/1250 [==============================] - 8s 6ms/step - loss: 1.5312 - accuracy: 0.4375 - val_loss: 1.2082 - val_accuracy: 0.5668\n",
            "Epoch 2/20\n",
            "1250/1250 [==============================] - 7s 5ms/step - loss: 1.0580 - accuracy: 0.6266 - val_loss: 0.9362 - val_accuracy: 0.6684\n",
            "Epoch 3/20\n",
            "1250/1250 [==============================] - 7s 6ms/step - loss: 0.8650 - accuracy: 0.6974 - val_loss: 0.8498 - val_accuracy: 0.7064\n",
            "Epoch 4/20\n",
            "1250/1250 [==============================] - 7s 6ms/step - loss: 0.7536 - accuracy: 0.7370 - val_loss: 0.7931 - val_accuracy: 0.7268\n",
            "Epoch 5/20\n",
            "1250/1250 [==============================] - 7s 5ms/step - loss: 0.6688 - accuracy: 0.7658 - val_loss: 0.7882 - val_accuracy: 0.7327\n",
            "Epoch 6/20\n",
            "1250/1250 [==============================] - 7s 5ms/step - loss: 0.6029 - accuracy: 0.7903 - val_loss: 0.7437 - val_accuracy: 0.7521\n",
            "Epoch 7/20\n",
            "1250/1250 [==============================] - 7s 6ms/step - loss: 0.5372 - accuracy: 0.8092 - val_loss: 0.7872 - val_accuracy: 0.7399\n",
            "Epoch 8/20\n",
            "1250/1250 [==============================] - 7s 5ms/step - loss: 0.4822 - accuracy: 0.8277 - val_loss: 0.8145 - val_accuracy: 0.7405\n",
            "Epoch 9/20\n",
            "1250/1250 [==============================] - 7s 6ms/step - loss: 0.4407 - accuracy: 0.8449 - val_loss: 0.7971 - val_accuracy: 0.7472\n",
            "Epoch 10/20\n",
            "1250/1250 [==============================] - 7s 6ms/step - loss: 0.3902 - accuracy: 0.8630 - val_loss: 0.8212 - val_accuracy: 0.7461\n",
            "Epoch 11/20\n",
            "1250/1250 [==============================] - 7s 5ms/step - loss: 0.3669 - accuracy: 0.8709 - val_loss: 0.8550 - val_accuracy: 0.7513\n",
            "Epoch 12/20\n",
            "1250/1250 [==============================] - 7s 6ms/step - loss: 0.3330 - accuracy: 0.8820 - val_loss: 0.8998 - val_accuracy: 0.7442\n",
            "Epoch 13/20\n",
            "1250/1250 [==============================] - 7s 5ms/step - loss: 0.3004 - accuracy: 0.8923 - val_loss: 0.8925 - val_accuracy: 0.7498\n",
            "Epoch 14/20\n",
            "1250/1250 [==============================] - 7s 5ms/step - loss: 0.2844 - accuracy: 0.8980 - val_loss: 0.9195 - val_accuracy: 0.7553\n",
            "Epoch 15/20\n",
            "1250/1250 [==============================] - 7s 6ms/step - loss: 0.2652 - accuracy: 0.9061 - val_loss: 1.0173 - val_accuracy: 0.7396\n",
            "Epoch 16/20\n",
            "1250/1250 [==============================] - 7s 5ms/step - loss: 0.2491 - accuracy: 0.9124 - val_loss: 1.0125 - val_accuracy: 0.7550\n",
            "Epoch 17/20\n",
            "1250/1250 [==============================] - 7s 6ms/step - loss: 0.2341 - accuracy: 0.9170 - val_loss: 1.0660 - val_accuracy: 0.7418\n",
            "Epoch 18/20\n",
            "1250/1250 [==============================] - 7s 6ms/step - loss: 0.2250 - accuracy: 0.9209 - val_loss: 1.0248 - val_accuracy: 0.7514\n",
            "Epoch 19/20\n",
            "1250/1250 [==============================] - 7s 5ms/step - loss: 0.2175 - accuracy: 0.9230 - val_loss: 1.0445 - val_accuracy: 0.7443\n",
            "Epoch 20/20\n",
            "1250/1250 [==============================] - 7s 6ms/step - loss: 0.2054 - accuracy: 0.9285 - val_loss: 1.0951 - val_accuracy: 0.7470\n",
            "313/313 - 1s - loss: 1.1466 - accuracy: 0.7461 - 747ms/epoch - 2ms/step\n",
            "Modelo Final p = 0.2 - Test Error: 0.2538999915122986\n",
            "Epoch 1/20\n",
            "1250/1250 [==============================] - 8s 6ms/step - loss: 1.6471 - accuracy: 0.3875 - val_loss: 1.2243 - val_accuracy: 0.5524\n",
            "Epoch 2/20\n",
            "1250/1250 [==============================] - 7s 5ms/step - loss: 1.1764 - accuracy: 0.5758 - val_loss: 1.0561 - val_accuracy: 0.6259\n",
            "Epoch 3/20\n",
            "1250/1250 [==============================] - 7s 6ms/step - loss: 0.9974 - accuracy: 0.6450 - val_loss: 0.9921 - val_accuracy: 0.6551\n",
            "Epoch 4/20\n",
            "1250/1250 [==============================] - 7s 6ms/step - loss: 0.8871 - accuracy: 0.6870 - val_loss: 0.8495 - val_accuracy: 0.7031\n",
            "Epoch 5/20\n",
            "1250/1250 [==============================] - 7s 5ms/step - loss: 0.8038 - accuracy: 0.7156 - val_loss: 0.7834 - val_accuracy: 0.7311\n",
            "Epoch 6/20\n",
            "1250/1250 [==============================] - 7s 5ms/step - loss: 0.7370 - accuracy: 0.7379 - val_loss: 0.8012 - val_accuracy: 0.7227\n",
            "Epoch 7/20\n",
            "1250/1250 [==============================] - 7s 6ms/step - loss: 0.6880 - accuracy: 0.7581 - val_loss: 0.7571 - val_accuracy: 0.7431\n",
            "Epoch 8/20\n",
            "1250/1250 [==============================] - 7s 6ms/step - loss: 0.6437 - accuracy: 0.7719 - val_loss: 0.7434 - val_accuracy: 0.7420\n",
            "Epoch 9/20\n",
            "1250/1250 [==============================] - 7s 6ms/step - loss: 0.5976 - accuracy: 0.7890 - val_loss: 0.7530 - val_accuracy: 0.7481\n",
            "Epoch 10/20\n",
            "1250/1250 [==============================] - 7s 6ms/step - loss: 0.5742 - accuracy: 0.7959 - val_loss: 0.7118 - val_accuracy: 0.7598\n",
            "Epoch 11/20\n",
            "1250/1250 [==============================] - 7s 5ms/step - loss: 0.5396 - accuracy: 0.8085 - val_loss: 0.7643 - val_accuracy: 0.7422\n",
            "Epoch 12/20\n",
            "1250/1250 [==============================] - 7s 6ms/step - loss: 0.5115 - accuracy: 0.8188 - val_loss: 0.7658 - val_accuracy: 0.7513\n",
            "Epoch 13/20\n",
            "1250/1250 [==============================] - 7s 5ms/step - loss: 0.4841 - accuracy: 0.8264 - val_loss: 0.7129 - val_accuracy: 0.7652\n",
            "Epoch 14/20\n",
            "1250/1250 [==============================] - 7s 6ms/step - loss: 0.4595 - accuracy: 0.8362 - val_loss: 0.7216 - val_accuracy: 0.7662\n",
            "Epoch 15/20\n",
            "1250/1250 [==============================] - 7s 5ms/step - loss: 0.4374 - accuracy: 0.8440 - val_loss: 0.7241 - val_accuracy: 0.7657\n",
            "Epoch 16/20\n",
            "1250/1250 [==============================] - 7s 5ms/step - loss: 0.4206 - accuracy: 0.8485 - val_loss: 0.7392 - val_accuracy: 0.7622\n",
            "Epoch 17/20\n",
            "1250/1250 [==============================] - 7s 5ms/step - loss: 0.4069 - accuracy: 0.8555 - val_loss: 0.7517 - val_accuracy: 0.7680\n",
            "Epoch 18/20\n",
            "1250/1250 [==============================] - 7s 5ms/step - loss: 0.3835 - accuracy: 0.8623 - val_loss: 0.7822 - val_accuracy: 0.7559\n",
            "Epoch 19/20\n",
            "1250/1250 [==============================] - 7s 6ms/step - loss: 0.3649 - accuracy: 0.8684 - val_loss: 0.7632 - val_accuracy: 0.7626\n",
            "Epoch 20/20\n",
            "1250/1250 [==============================] - 7s 6ms/step - loss: 0.3547 - accuracy: 0.8736 - val_loss: 0.8189 - val_accuracy: 0.7610\n",
            "313/313 - 1s - loss: 0.8397 - accuracy: 0.7541 - 884ms/epoch - 3ms/step\n",
            "Modelo Final p = 0.5 - Test Error: 0.2458999752998352\n"
          ]
        },
        {
          "output_type": "display_data",
          "data": {
            "text/plain": [
              "<Figure size 432x288 with 1 Axes>"
            ],
            "image/png": "[encoded data removed]"
          },
          "metadata": {
            "needs_background": "light"
          }
        },
        {
          "output_type": "display_data",
          "data": {
            "text/plain": [
              "<Figure size 432x288 with 1 Axes>"
            ],
            "image/png": "[encoded data removed]"
          },
          "metadata": {
            "needs_background": "light"
          }
        }
      ]
    },
    {
      "cell_type": "markdown",
      "source": [
        "# Conclusiones\n",
        "En este ejercicio aplique las mismas mejoras que en el ejercicio 1 y podemos notar 2 cosas:\n",
        "\n",
        "Primero, las mejoras afectaron distintos a los modelos. Para el modelo con `p=.2` no tenemos una disminucion del sobreajuste pero si resulto en una mejora del error de test en 1% aproximadamente.\n",
        "\n",
        "Luego para el otro modelo, las mejoras fueron mas utiles. Se nota (muy poco) una disminucion del sobreajuste y tambien logramos disminuir el error en un 3%.\n",
        "\n",
        "Capaz otras mejoras que podemos hacer es utilizar los 2 valores de p en las capas de Dropout. **Esto lo hice en siguiente ejercicio**."
      ],
      "metadata": {
        "id": "w8zPhFGMuvmb"
      }
    },
    {
      "cell_type": "code",
      "source": [
        "def ejercicio_3_mejorado():\n",
        "  (train_images, train_labels), (test_images, test_labels) = datasets.cifar10.load_data()\n",
        "\n",
        "  # Normalizamos\n",
        "  train_images, test_images = train_images / 255.0, test_images / 255.0\n",
        "\n",
        "  # Separamos los train y val sets\n",
        "  train_images, val_images, train_labels, val_labels = train_test_split(train_images, train_labels, test_size=0.2, random_state=0)\n",
        "\n",
        "  # Creamos el modelo\n",
        "  img_height = 32\n",
        "  img_width = 32\n",
        "  data_augmentation = keras.Sequential(\n",
        "      [\n",
        "            layers.RandomFlip(\"horizontal\", input_shape=(img_height, img_width, 3)),\n",
        "            layers.RandomRotation(0.1),\n",
        "            layers.RandomZoom(0.1)\n",
        "      ]\n",
        "  )\n",
        "\n",
        "  model = models.Sequential()\n",
        "  model.add(data_augmentation)\n",
        "  model.add(layers.Conv2D(32, (3, 3), activation='relu', padding='same', input_shape=(32, 32, 3)))\n",
        "  model.add(layers.Conv2D(32, (3, 3), activation='relu', padding='same'))\n",
        "  model.add(layers.MaxPooling2D((2, 2)))\n",
        "  model.add(layers.Conv2D(64, (3, 3), activation='relu', padding='same'))\n",
        "  model.add(layers.Conv2D(64, (3, 3), activation='relu', padding='same'))\n",
        "  model.add(layers.MaxPooling2D((2, 2)))\n",
        "  model.add(layers.Conv2D(128, (3, 3), activation='relu', padding='same'))\n",
        "  model.add(layers.Conv2D(128, (3, 3), activation='relu', padding='same'))\n",
        "  # Dropout\n",
        "  model.add(layers.Dropout(.5))\n",
        "  model.add(layers.Flatten())\n",
        "  model.add(layers.Dense(64))\n",
        "  # Dropout\n",
        "  model.add(layers.Dropout(.2))\n",
        "  model.add(layers.Dense(128))\n",
        "  model.add(layers.Dense(128))\n",
        "  model.add(layers.Dense(10))\n",
        "\n",
        "  # Compilamos el modelo\n",
        "  model.compile(optimizer='adam',\n",
        "              loss=tf.keras.losses.SparseCategoricalCrossentropy(from_logits=True),\n",
        "              metrics=['accuracy'])\n",
        "\n",
        "  history = model.fit(\n",
        "      train_images, \n",
        "      train_labels, \n",
        "      epochs=20, \n",
        "      validation_data=(val_images, val_labels)\n",
        "  )\n",
        "  \n",
        "  test_loss, test_acc = model.evaluate(test_images,  test_labels, verbose=2)\n",
        "  print(f\"Modelo Final - Test Error: {1 - test_acc}\")\n",
        "  \n",
        "  return model, history\n",
        "\n",
        "model3_mejorado, history3_mejorado = ejercicio_3_mejorado()\n",
        "plot_error_model(model3_mejorado, history3_mejorado, 'Ejercicio 3 mejorado')"
      ],
      "metadata": {
        "id": "9ytbDwUvyHUn",
        "colab": {
          "base_uri": "https://localhost:8080/",
          "height": 1000
        },
        "outputId": "48051e60-992b-400e-b862-29537aa833a2"
      },
      "execution_count": 7,
      "outputs": [
        {
          "output_type": "stream",
          "name": "stdout",
          "text": [
            "Epoch 1/20\n",
            "1250/1250 [==============================] - 10s 7ms/step - loss: 1.7327 - accuracy: 0.3629 - val_loss: 1.4848 - val_accuracy: 0.4536\n",
            "Epoch 2/20\n",
            "1250/1250 [==============================] - 8s 6ms/step - loss: 1.4451 - accuracy: 0.4739 - val_loss: 1.2423 - val_accuracy: 0.5505\n",
            "Epoch 3/20\n",
            "1250/1250 [==============================] - 8s 6ms/step - loss: 1.3158 - accuracy: 0.5268 - val_loss: 1.1389 - val_accuracy: 0.5964\n",
            "Epoch 4/20\n",
            "1250/1250 [==============================] - 8s 6ms/step - loss: 1.2429 - accuracy: 0.5564 - val_loss: 1.0332 - val_accuracy: 0.6367\n",
            "Epoch 5/20\n",
            "1250/1250 [==============================] - 8s 6ms/step - loss: 1.1799 - accuracy: 0.5796 - val_loss: 1.0758 - val_accuracy: 0.6156\n",
            "Epoch 6/20\n",
            "1250/1250 [==============================] - 8s 7ms/step - loss: 1.1414 - accuracy: 0.5998 - val_loss: 1.1098 - val_accuracy: 0.6181\n",
            "Epoch 7/20\n",
            "1250/1250 [==============================] - 8s 6ms/step - loss: 1.1037 - accuracy: 0.6109 - val_loss: 1.0031 - val_accuracy: 0.6532\n",
            "Epoch 8/20\n",
            "1250/1250 [==============================] - 8s 6ms/step - loss: 1.0887 - accuracy: 0.6163 - val_loss: 0.9820 - val_accuracy: 0.6601\n",
            "Epoch 9/20\n",
            "1250/1250 [==============================] - 8s 7ms/step - loss: 1.0571 - accuracy: 0.6292 - val_loss: 0.9010 - val_accuracy: 0.6935\n",
            "Epoch 10/20\n",
            "1250/1250 [==============================] - 8s 6ms/step - loss: 1.0280 - accuracy: 0.6403 - val_loss: 0.9003 - val_accuracy: 0.6872\n",
            "Epoch 11/20\n",
            "1250/1250 [==============================] - 8s 6ms/step - loss: 1.0122 - accuracy: 0.6481 - val_loss: 0.9343 - val_accuracy: 0.6771\n",
            "Epoch 12/20\n",
            "1250/1250 [==============================] - 8s 6ms/step - loss: 0.9938 - accuracy: 0.6529 - val_loss: 0.8573 - val_accuracy: 0.7030\n",
            "Epoch 13/20\n",
            "1250/1250 [==============================] - 8s 7ms/step - loss: 0.9757 - accuracy: 0.6616 - val_loss: 0.8792 - val_accuracy: 0.6987\n",
            "Epoch 14/20\n",
            "1250/1250 [==============================] - 8s 7ms/step - loss: 0.9587 - accuracy: 0.6680 - val_loss: 0.8317 - val_accuracy: 0.7151\n",
            "Epoch 15/20\n",
            "1250/1250 [==============================] - 9s 7ms/step - loss: 0.9425 - accuracy: 0.6723 - val_loss: 0.9380 - val_accuracy: 0.6876\n",
            "Epoch 16/20\n",
            "1250/1250 [==============================] - 8s 6ms/step - loss: 0.9286 - accuracy: 0.6776 - val_loss: 0.8188 - val_accuracy: 0.7175\n",
            "Epoch 17/20\n",
            "1250/1250 [==============================] - 8s 7ms/step - loss: 0.9133 - accuracy: 0.6815 - val_loss: 0.8094 - val_accuracy: 0.7261\n",
            "Epoch 18/20\n",
            "1250/1250 [==============================] - 8s 6ms/step - loss: 0.9070 - accuracy: 0.6829 - val_loss: 0.8097 - val_accuracy: 0.7286\n",
            "Epoch 19/20\n",
            "1250/1250 [==============================] - 8s 6ms/step - loss: 0.8935 - accuracy: 0.6901 - val_loss: 0.8037 - val_accuracy: 0.7289\n",
            "Epoch 20/20\n",
            "1250/1250 [==============================] - 8s 6ms/step - loss: 0.8778 - accuracy: 0.6960 - val_loss: 0.8067 - val_accuracy: 0.7262\n",
            "313/313 - 1s - loss: 0.8321 - accuracy: 0.7218 - 878ms/epoch - 3ms/step\n",
            "Modelo Final - Test Error: 0.2781999707221985\n"
          ]
        },
        {
          "output_type": "display_data",
          "data": {
            "text/plain": [
              "<Figure size 432x288 with 1 Axes>"
            ],
            "image/png": "[encoded data removed]"
          },
          "metadata": {
            "needs_background": "light"
          }
        }
      ]
    },
    {
      "cell_type": "markdown",
      "source": [
        "# Conclusiones\n",
        "En este ejercicio se me ocurrio aplicar los mismos cambios en las capas que hice en el ejercicio 1, pero ademas cambiar los valores de p. Usando `p=.5` despues de la última capa convolucional y usar `p=.2` luego de la primer capa densa. Esto llevo a una mejora del 3% aproximadamente, que era lo que estabamos buscando.\n",
        "\n",
        "Podemos ver que el sobreajuste es igual que en ejercicio anterior y podemos concluir que estas mejoras solo disminuyeron el error de test."
      ],
      "metadata": {
        "id": "fEwSrdIOuxfy"
      }
    },
    {
      "cell_type": "markdown",
      "source": [
        "# Ejercicio 5"
      ],
      "metadata": {
        "id": "TO180P14uy6Z"
      }
    },
    {
      "cell_type": "code",
      "source": [
        "def ejercicio_5():\n",
        "  (train_images, train_labels), (test_images, test_labels) = datasets.cifar10.load_data()\n",
        "\n",
        "  # Normalizamos\n",
        "  train_images, test_images = train_images / 255.0, test_images / 255.0\n",
        "\n",
        "  # Separamos los train y val sets\n",
        "  train_images, val_images, train_labels, val_labels = train_test_split(train_images, train_labels, test_size=0.2, random_state=0)\n",
        "\n",
        "  # Creamos el modelo\n",
        "  img_height = 32\n",
        "  img_width = 32\n",
        "  data_augmentation = keras.Sequential(\n",
        "      [\n",
        "            layers.RandomFlip(\"horizontal\", input_shape=(img_height, img_width, 3)),\n",
        "            layers.RandomRotation(0.1),\n",
        "            layers.RandomZoom(0.1),\n",
        "            layers.RandomContrast(.05)\n",
        "      ]\n",
        "  )\n",
        "\n",
        "  model = models.Sequential()\n",
        "  model.add(data_augmentation)\n",
        "  model.add(layers.Conv2D(32, (3, 3), activation='relu', padding='same', input_shape=(32, 32, 3)))\n",
        "  model.add(layers.MaxPooling2D((2, 2)))\n",
        "  model.add(layers.Conv2D(64, (3, 3), activation='relu', padding='same'))\n",
        "  model.add(layers.Conv2D(64, (3, 3), activation='relu', padding='same'))\n",
        "  model.add(layers.MaxPooling2D((2, 2)))\n",
        "  model.add(layers.Conv2D(64, (3, 3), activation='relu', padding='same'))\n",
        "  model.add(layers.Conv2D(64, (3, 3), activation='relu', padding='same'))\n",
        "  # Dropout\n",
        "  model.add(layers.Dropout(.2))\n",
        "  model.add(layers.Flatten())\n",
        "  model.add(layers.Dense(64))\n",
        "  # Dropout\n",
        "  model.add(layers.Dropout(.2))\n",
        "  model.add(layers.Dense(128))\n",
        "  model.add(layers.Dense(128))\n",
        "  model.add(layers.Dense(10))\n",
        "\n",
        "  # Compilamos el modelo\n",
        "  model.compile(optimizer='adam',\n",
        "              loss=tf.keras.losses.SparseCategoricalCrossentropy(from_logits=True),\n",
        "              metrics=['accuracy'])\n",
        "\n",
        "  history = model.fit(\n",
        "      train_images, \n",
        "      train_labels, \n",
        "      epochs=20, \n",
        "      validation_data=(val_images, val_labels)\n",
        "  )\n",
        "  \n",
        "  test_loss, test_acc = model.evaluate(test_images,  test_labels, verbose=2)\n",
        "  print(f\"Modelo Final - Test Error: {1 - test_acc}\")\n",
        "  \n",
        "  return model, history\n",
        "\n",
        "model5, history5 = ejercicio_5()\n",
        "plot_error_model(model5, history5, 'Ejercicio 5')"
      ],
      "metadata": {
        "colab": {
          "base_uri": "https://localhost:8080/",
          "height": 1000
        },
        "id": "g7G6q0BPXbBp",
        "outputId": "e0dd80b0-6462-4b6f-8320-d351ed7429c0"
      },
      "execution_count": 13,
      "outputs": [
        {
          "output_type": "stream",
          "name": "stdout",
          "text": [
            "Epoch 1/20\n",
            "1250/1250 [==============================] - 9s 7ms/step - loss: 1.6918 - accuracy: 0.3746 - val_loss: 1.3677 - val_accuracy: 0.4835\n",
            "Epoch 2/20\n",
            "1250/1250 [==============================] - 8s 6ms/step - loss: 1.4199 - accuracy: 0.4834 - val_loss: 1.2392 - val_accuracy: 0.5604\n",
            "Epoch 3/20\n",
            "1250/1250 [==============================] - 7s 6ms/step - loss: 1.3072 - accuracy: 0.5318 - val_loss: 1.1784 - val_accuracy: 0.5787\n",
            "Epoch 4/20\n",
            "1250/1250 [==============================] - 7s 6ms/step - loss: 1.2338 - accuracy: 0.5624 - val_loss: 1.1425 - val_accuracy: 0.6088\n",
            "Epoch 5/20\n",
            "1250/1250 [==============================] - 7s 6ms/step - loss: 1.1766 - accuracy: 0.5823 - val_loss: 1.0526 - val_accuracy: 0.6388\n",
            "Epoch 6/20\n",
            "1250/1250 [==============================] - 8s 6ms/step - loss: 1.1385 - accuracy: 0.5975 - val_loss: 1.1008 - val_accuracy: 0.6232\n",
            "Epoch 7/20\n",
            "1250/1250 [==============================] - 9s 7ms/step - loss: 1.1006 - accuracy: 0.6133 - val_loss: 0.9705 - val_accuracy: 0.6623\n",
            "Epoch 8/20\n",
            "1250/1250 [==============================] - 8s 6ms/step - loss: 1.0684 - accuracy: 0.6241 - val_loss: 0.9466 - val_accuracy: 0.6670\n",
            "Epoch 9/20\n",
            "1250/1250 [==============================] - 8s 6ms/step - loss: 1.0595 - accuracy: 0.6259 - val_loss: 0.9772 - val_accuracy: 0.6619\n",
            "Epoch 10/20\n",
            "1250/1250 [==============================] - 8s 6ms/step - loss: 1.0307 - accuracy: 0.6400 - val_loss: 0.9491 - val_accuracy: 0.6763\n",
            "Epoch 11/20\n",
            "1250/1250 [==============================] - 8s 6ms/step - loss: 1.0071 - accuracy: 0.6460 - val_loss: 0.9489 - val_accuracy: 0.6770\n",
            "Epoch 12/20\n",
            "1250/1250 [==============================] - 8s 6ms/step - loss: 0.9867 - accuracy: 0.6546 - val_loss: 0.8967 - val_accuracy: 0.6869\n",
            "Epoch 13/20\n",
            "1250/1250 [==============================] - 8s 6ms/step - loss: 0.9711 - accuracy: 0.6596 - val_loss: 0.9214 - val_accuracy: 0.6858\n",
            "Epoch 14/20\n",
            "1250/1250 [==============================] - 8s 6ms/step - loss: 0.9573 - accuracy: 0.6645 - val_loss: 0.8724 - val_accuracy: 0.7017\n",
            "Epoch 15/20\n",
            "1250/1250 [==============================] - 7s 6ms/step - loss: 0.9490 - accuracy: 0.6683 - val_loss: 0.8482 - val_accuracy: 0.7106\n",
            "Epoch 16/20\n",
            "1250/1250 [==============================] - 8s 6ms/step - loss: 0.9350 - accuracy: 0.6743 - val_loss: 0.8271 - val_accuracy: 0.7171\n",
            "Epoch 17/20\n",
            "1250/1250 [==============================] - 8s 6ms/step - loss: 0.9268 - accuracy: 0.6762 - val_loss: 0.8556 - val_accuracy: 0.7025\n",
            "Epoch 18/20\n",
            "1250/1250 [==============================] - 7s 6ms/step - loss: 0.9050 - accuracy: 0.6839 - val_loss: 0.8694 - val_accuracy: 0.7027\n",
            "Epoch 19/20\n",
            "1250/1250 [==============================] - 7s 6ms/step - loss: 0.9019 - accuracy: 0.6853 - val_loss: 0.7657 - val_accuracy: 0.7377\n",
            "Epoch 20/20\n",
            "1250/1250 [==============================] - 8s 6ms/step - loss: 0.8869 - accuracy: 0.6906 - val_loss: 0.8051 - val_accuracy: 0.7210\n",
            "313/313 - 1s - loss: 0.8195 - accuracy: 0.7150 - 827ms/epoch - 3ms/step\n",
            "Modelo Final - Test Error: 0.2850000262260437\n"
          ]
        },
        {
          "output_type": "display_data",
          "data": {
            "text/plain": [
              "<Figure size 432x288 with 1 Axes>"
            ],
            "image/png": "[encoded data removed]"
          },
          "metadata": {
            "needs_background": "light"
          }
        }
      ]
    },
    {
      "cell_type": "markdown",
      "source": [
        "# Conclusiones\n",
        "Como comente en el ejercicio 3, en este ejercicio decidi usar `p=.2` para la capa de Dropout.\n",
        "\n",
        "En este ejercicio lei la documentacion de que tipos de data augmentation podia agregar y intente utilizar `Resizing` y `Rescaling`. Esto llevo a generar un peor modelo, con un error de 80% o mas. Supongo que al modificar el tamaño de las imagenes con estas funciones empeoramos las cosas. Luego intente modificar el brillo pero no lo puede hacer funcionar. Por ultimo decidi usar solo `RandomContrast`.\n",
        "\n",
        "\n",
        "Al cambiar el constraste de la imagen con un `factor=.05` de forma random, resulto en el modelo una mejora del 2% y no hay indicios de un aumento de sobreajuste.\n"
      ],
      "metadata": {
        "id": "qQL0M5HJvRoP"
      }
    }
  ],
  "metadata": {
    "kernelspec": {
      "display_name": "Python 3.10.4 ('machine_learning')",
      "language": "python",
      "name": "python3"
    },
    "language_info": {
      "name": "python",
      "version": "3.10.4"
    },
    "orig_nbformat": 4,
    "vscode": {
      "interpreter": {
        "hash": "0b25bf5cd0adbc402c87f0798307040026bb1c02fff39794be749124308317f6"
      }
    },
    "colab": {
      "name": "main.ipynb",
      "provenance": [],
      "collapsed_sections": []
    },
    "gpuClass": "standard",
    "accelerator": "GPU"
  },
  "nbformat": 4,
  "nbformat_minor": 0
}