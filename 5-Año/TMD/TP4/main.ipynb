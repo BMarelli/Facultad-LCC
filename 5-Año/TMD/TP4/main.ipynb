{
  "cells": [
    {
      "cell_type": "markdown",
      "metadata": {
        "id": "xOa9P6TDeCCG"
      },
      "source": [
        "# Trabajo Practico 4"
      ]
    },
    {
      "cell_type": "code",
      "execution_count": 4,
      "metadata": {
        "colab": {
          "base_uri": "https://localhost:8080/"
        },
        "id": "Eh3NQGYGd-SI",
        "outputId": "74f600e9-fbe0-4305-f54c-f7183faa6ad1"
      },
      "outputs": [
        {
          "output_type": "stream",
          "name": "stderr",
          "text": [
            "Installing package into ‘/usr/local/lib/R/site-library’\n",
            "(as ‘lib’ is unspecified)\n",
            "\n",
            "also installing the dependencies ‘listenv’, ‘parallelly’, ‘future’, ‘globals’, ‘future.apply’, ‘numDeriv’, ‘progressr’, ‘SQUAREM’, ‘lava’, ‘prodlim’, ‘proxy’, ‘Rcpp’, ‘clock’, ‘gower’, ‘hardhat’, ‘ipred’, ‘timeDate’, ‘e1071’, ‘ModelMetrics’, ‘plyr’, ‘pROC’, ‘recipes’, ‘reshape2’, ‘iterators’, ‘caret’, ‘foreach’, ‘doParallel’\n",
            "\n",
            "\n",
            "Loading required package: rpart\n",
            "\n",
            "Loading required package: caret\n",
            "\n",
            "Loading required package: ggplot2\n",
            "\n",
            "Loading required package: lattice\n",
            "\n",
            "Warning message in system(\"timedatectl\", intern = TRUE):\n",
            "“running command 'timedatectl' had status 1”\n",
            "Loading required package: foreach\n",
            "\n",
            "Loading required package: doParallel\n",
            "\n",
            "Loading required package: iterators\n",
            "\n",
            "Loading required package: parallel\n",
            "\n",
            "Installing package into ‘/usr/local/lib/R/site-library’\n",
            "(as ‘lib’ is unspecified)\n",
            "\n",
            "randomForest 4.7-1.1\n",
            "\n",
            "Type rfNews() to see new features/changes/bug fixes.\n",
            "\n",
            "\n",
            "Attaching package: ‘randomForest’\n",
            "\n",
            "\n",
            "The following object is masked from ‘package:ggplot2’:\n",
            "\n",
            "    margin\n",
            "\n",
            "\n"
          ]
        }
      ],
      "source": [
        "install.packages(\"adabag\")\n",
        "library(\"adabag\")\n",
        "install.packages(\"randomForest\")\n",
        "library(\"randomForest\")\n",
        "library(\"e1071\")"
      ]
    },
    {
      "cell_type": "code",
      "execution_count": 5,
      "metadata": {
        "colab": {
          "base_uri": "https://localhost:8080/",
          "height": 34
        },
        "id": "dHhCXSVTbEKy",
        "outputId": "0cd48a52-15a8-46d2-ee9a-32c96d6feb54"
      },
      "outputs": [
        {
          "output_type": "display_data",
          "data": {
            "text/html": [
              "<style>\n",
              ".list-inline {list-style: none; margin:0; padding: 0}\n",
              ".list-inline>li {display: inline-block}\n",
              ".list-inline>li:not(:last-child)::after {content: \"\\00b7\"; padding: 0 .5ex}\n",
              "</style>\n",
              "<ol class=list-inline><li>'esp_train'</li><li>'RRL'</li><li>'esp_test'</li><li>'diag_test'</li><li>'.Random.seed'</li><li>'diag_train'</li></ol>\n"
            ],
            "text/markdown": "1. 'esp_train'\n2. 'RRL'\n3. 'esp_test'\n4. 'diag_test'\n5. '.Random.seed'\n6. 'diag_train'\n\n\n",
            "text/latex": "\\begin{enumerate*}\n\\item 'esp\\_train'\n\\item 'RRL'\n\\item 'esp\\_test'\n\\item 'diag\\_test'\n\\item '.Random.seed'\n\\item 'diag\\_train'\n\\end{enumerate*}\n",
            "text/plain": [
              "[1] \"esp_train\"    \"RRL\"          \"esp_test\"     \"diag_test\"    \".Random.seed\"\n",
              "[6] \"diag_train\"  "
            ]
          },
          "metadata": {}
        }
      ],
      "source": [
        "data = load(\"/content/TP4.Rdata\")\n",
        "data"
      ]
    },
    {
      "cell_type": "markdown",
      "metadata": {
        "id": "3g1QcTjwoZxF"
      },
      "source": [
        "# Ejercicio 1"
      ]
    },
    {
      "cell_type": "code",
      "execution_count": null,
      "metadata": {
        "colab": {
          "base_uri": "https://localhost:8080/",
          "height": 857
        },
        "id": "gA7ItjdCn3HI",
        "outputId": "50eff591-49eb-4701-b82e-40ffd80f2f91"
      },
      "outputs": [
        {
          "data": {
            "image/png": "[encoded data removed]",
            "text/plain": [
              "Plot with title “Esp Train Error”"
            ]
          },
          "metadata": {
            "image/png": {
              "height": 420,
              "width": 420
            }
          },
          "output_type": "display_data"
        },
        {
          "data": {
            "image/png": "[encoded data removed]",
            "text/plain": [
              "Plot with title “Esp Test Error”"
            ]
          },
          "metadata": {
            "image/png": {
              "height": 420,
              "width": 420
            }
          },
          "output_type": "display_data"
        }
      ],
      "source": [
        "esp.train.error = c()\n",
        "esp.test.error = c()\n",
        "\n",
        "for (depth in 1:20) {\n",
        "  esp.adaboost = boosting(class ~., data=esp_train, mfinal = 10, coef=\"Freund\", control=rpart.control(maxdepth=depth))\n",
        "  esp.train.predict = predict(esp.adaboost, esp_train)\n",
        "  esp.train.error = c(esp.train.error, esp.train.predict$error)\n",
        "\n",
        "  esp.test.predict = predict(esp.adaboost, esp_test)\n",
        "  esp.test.error = c(esp.test.error, esp.test.predict$error)\n",
        "}\n",
        "\n",
        "plot(c(1:20), esp.train.error, type=\"l\", xlab=\"Depth\", ylab=\"Errors\", main=\"Esp Train Error\", ylim=c(0,1))\n",
        "plot(c(1:20), esp.test.error, type=\"l\", xlab=\"Depth\", ylab=\"Errors\", main=\"Esp Test Error\", ylim=c(0,1))"
      ]
    },
    {
      "cell_type": "code",
      "execution_count": null,
      "metadata": {
        "colab": {
          "base_uri": "https://localhost:8080/",
          "height": 857
        },
        "id": "NXOmP0KIrrcQ",
        "outputId": "345536bb-fd2c-4764-e59c-08e0938d8898"
      },
      "outputs": [
        {
          "data": {
            "image/png": "[encoded data removed]",
            "text/plain": [
              "Plot with title “Diag Train Error”"
            ]
          },
          "metadata": {
            "image/png": {
              "height": 420,
              "width": 420
            }
          },
          "output_type": "display_data"
        },
        {
          "data": {
            "image/png": "[encoded data removed]",
            "text/plain": [
              "Plot with title “Diag Test Error”"
            ]
          },
          "metadata": {
            "image/png": {
              "height": 420,
              "width": 420
            }
          },
          "output_type": "display_data"
        }
      ],
      "source": [
        "diag.train.error = c()\n",
        "diag.test.error = c()\n",
        "\n",
        "for (depth in 1:20) {\n",
        "  diag.adaboost = boosting(class ~., data=diag_train, mfinal = 10, coef=\"Freund\", control=rpart.control(maxdepth=depth))\n",
        "  diag.train.predict = predict(diag.adaboost, diag_train)\n",
        "  diag.train.error = c(diag.train.error, diag.train.predict$error)\n",
        "\n",
        "  diag.test.predict = predict(diag.adaboost, diag_test)\n",
        "  diag.test.error = c(diag.test.error, diag.test.predict$error)\n",
        "}\n",
        "\n",
        "plot(c(1:20), diag.train.error, type=\"l\", xlab=\"Depth\", ylab=\"Errors\", main=\"Diag Train Error\", ylim=c(0,1))\n",
        "plot(c(1:20), diag.test.error, type=\"l\", xlab=\"Depth\", ylab=\"Errors\", main=\"Diag Test Error\", , ylim=c(0,1))"
      ]
    },
    {
      "cell_type": "markdown",
      "metadata": {
        "id": "xJt-eJUgoc7h"
      },
      "source": [
        "# Ejercicio 2"
      ]
    },
    {
      "cell_type": "code",
      "execution_count": 3,
      "metadata": {
        "id": "Jlwv3k8zQdpG"
      },
      "outputs": [],
      "source": [
        "rf.test = function(dataset, y) {\n",
        "  n.vars = function(n) {\n",
        "    res = c(n)\n",
        "    cnt = n\n",
        "    while (floor(cnt / 2) > 0) {\n",
        "      cnt = floor(cnt/2)\n",
        "      res = c(res, cnt)\n",
        "    }\n",
        "    return (res)\n",
        "  }\n",
        "\n",
        "  rf.errors = c()\n",
        "  n.cols = ncol(dataset) - 1\n",
        "  for (n in n.vars(n.cols)) {\n",
        "    n.error = c()\n",
        "    for (r in 1:5) {\n",
        "      rf = randomForest(y, data=dataset, mtry=n, ntree=1000)\n",
        "      rf.error = mean(rf$confusion[,3])\n",
        "      n.error = c(n.error, rf.error)\n",
        "    }\n",
        "\n",
        "    rf.errors = c(rf.errors, mean(n.error))\n",
        "  }\n",
        "\n",
        "  return (list(n.vars=n.vars(n.cols), rf.errors=rf.errors))\n",
        "}"
      ]
    },
    {
      "cell_type": "code",
      "execution_count": null,
      "metadata": {
        "id": "xFyPTDghoebN"
      },
      "outputs": [],
      "source": [
        "rrl.rf = rf.test(RRL, Tipo ~ .)"
      ]
    },
    {
      "cell_type": "code",
      "execution_count": null,
      "metadata": {
        "colab": {
          "base_uri": "https://localhost:8080/",
          "height": 114
        },
        "id": "0p90oELOy3xS",
        "outputId": "0ddc5406-6ea1-4188-ea5a-af1ed307a92e"
      },
      "outputs": [
        {
          "data": {
            "text/html": [
              "<dl>\n",
              "\t<dt>$n.vars</dt>\n",
              "\t\t<dd><style>\n",
              ".list-inline {list-style: none; margin:0; padding: 0}\n",
              ".list-inline>li {display: inline-block}\n",
              ".list-inline>li:not(:last-child)::after {content: \"\\00b7\"; padding: 0 .5ex}\n",
              "</style>\n",
              "<ol class=list-inline><li>69</li><li>34</li><li>17</li><li>8</li><li>4</li><li>2</li><li>1</li></ol>\n",
              "</dd>\n",
              "\t<dt>$rf.errors</dt>\n",
              "\t\t<dd><style>\n",
              ".list-inline {list-style: none; margin:0; padding: 0}\n",
              ".list-inline>li {display: inline-block}\n",
              ".list-inline>li:not(:last-child)::after {content: \"\\00b7\"; padding: 0 .5ex}\n",
              "</style>\n",
              "<ol class=list-inline><li>0.0424362606232295</li><li>0.0391218130311615</li><li>0.0388668555240793</li><li>0.0393767705382436</li><li>0.04</li><li>0.0414730878186969</li><li>0.0460339943342776</li></ol>\n",
              "</dd>\n",
              "</dl>\n"
            ],
            "text/latex": "\\begin{description}\n\\item[\\$n.vars] \\begin{enumerate*}\n\\item 69\n\\item 34\n\\item 17\n\\item 8\n\\item 4\n\\item 2\n\\item 1\n\\end{enumerate*}\n\n\\item[\\$rf.errors] \\begin{enumerate*}\n\\item 0.0424362606232295\n\\item 0.0391218130311615\n\\item 0.0388668555240793\n\\item 0.0393767705382436\n\\item 0.04\n\\item 0.0414730878186969\n\\item 0.0460339943342776\n\\end{enumerate*}\n\n\\end{description}\n",
            "text/markdown": "$n.vars\n:   1. 69\n2. 34\n3. 17\n4. 8\n5. 4\n6. 2\n7. 1\n\n\n\n$rf.errors\n:   1. 0.0424362606232295\n2. 0.0391218130311615\n3. 0.0388668555240793\n4. 0.0393767705382436\n5. 0.04\n6. 0.0414730878186969\n7. 0.0460339943342776\n\n\n\n\n\n",
            "text/plain": [
              "$n.vars\n",
              "[1] 69 34 17  8  4  2  1\n",
              "\n",
              "$rf.errors\n",
              "[1] 0.04243626 0.03912181 0.03886686 0.03937677 0.04000000 0.04147309 0.04603399\n"
            ]
          },
          "metadata": {},
          "output_type": "display_data"
        }
      ],
      "source": [
        "rrl.rf"
      ]
    },
    {
      "cell_type": "code",
      "execution_count": null,
      "metadata": {
        "colab": {
          "base_uri": "https://localhost:8080/",
          "height": 437
        },
        "id": "gBH8AcNO9gXO",
        "outputId": "e1105a8d-7c5b-44e2-cdd6-9e3ff8aafbca"
      },
      "outputs": [
        {
          "data": {
            "image/png": "[encoded data removed]",
            "text/plain": [
              "plot without title"
            ]
          },
          "metadata": {
            "image/png": {
              "height": 420,
              "width": 420
            }
          },
          "output_type": "display_data"
        }
      ],
      "source": [
        "plot(rrl.rf$n.vars, rrl.rf$rf.errors, type=\"l\", xlab=\"Cantidad de Variables\", ylab=\"Error\", log=\"x\")"
      ]
    },
    {
      "cell_type": "markdown",
      "source": [
        "## Conclusiones\n",
        "\n",
        "Como podemos ver en el grafico, el menor error lo encontramos entre los valores 17 y 34, por lo que podemos concluir, que es mejor tomar esa cantidad de variables aleatorias en cada paso del RF. Pero si vemos los valores de error, podemos ver que son muy bajos, asique no cambia mucho la cantidad de variables que tomemos."
      ],
      "metadata": {
        "id": "9P9xTORT3RsU"
      }
    },
    {
      "cell_type": "markdown",
      "metadata": {
        "id": "5Y3a_KphO9WD"
      },
      "source": [
        "# Ejercicio 3"
      ]
    },
    {
      "cell_type": "markdown",
      "metadata": {
        "id": "Cqs_fpJ_vw_B"
      },
      "source": [
        "## Random Forest"
      ]
    },
    {
      "cell_type": "code",
      "execution_count": null,
      "metadata": {
        "id": "UVHvvIhyO_Q4"
      },
      "outputs": [],
      "source": [
        "load(\"/content/lampone.Rdata\")\n",
        "lampone.data = lampone[-c(1, 144)]"
      ]
    },
    {
      "cell_type": "code",
      "execution_count": null,
      "metadata": {
        "colab": {
          "base_uri": "https://localhost:8080/",
          "height": 114
        },
        "id": "NvXDNvO027MK",
        "outputId": "f4fc3853-d851-44df-ee2f-b2ca020a083b"
      },
      "outputs": [
        {
          "data": {
            "text/html": [
              "<dl>\n",
              "\t<dt>$n.vars</dt>\n",
              "\t\t<dd><style>\n",
              ".list-inline {list-style: none; margin:0; padding: 0}\n",
              ".list-inline>li {display: inline-block}\n",
              ".list-inline>li:not(:last-child)::after {content: \"\\00b7\"; padding: 0 .5ex}\n",
              "</style>\n",
              "<ol class=list-inline><li>141</li><li>70</li><li>35</li><li>17</li><li>8</li><li>4</li><li>2</li><li>1</li></ol>\n",
              "</dd>\n",
              "\t<dt>$rf.errors</dt>\n",
              "\t\t<dd><style>\n",
              ".list-inline {list-style: none; margin:0; padding: 0}\n",
              ".list-inline>li {display: inline-block}\n",
              ".list-inline>li:not(:last-child)::after {content: \"\\00b7\"; padding: 0 .5ex}\n",
              "</style>\n",
              "<ol class=list-inline><li>0.16952861952862</li><li>0.108922558922559</li><li>0.0957912457912458</li><li>0.104882154882155</li><li>0.104882154882155</li><li>0.109427609427609</li><li>0.113973063973064</li><li>0.142424242424242</li></ol>\n",
              "</dd>\n",
              "</dl>\n"
            ],
            "text/latex": "\\begin{description}\n\\item[\\$n.vars] \\begin{enumerate*}\n\\item 141\n\\item 70\n\\item 35\n\\item 17\n\\item 8\n\\item 4\n\\item 2\n\\item 1\n\\end{enumerate*}\n\n\\item[\\$rf.errors] \\begin{enumerate*}\n\\item 0.16952861952862\n\\item 0.108922558922559\n\\item 0.0957912457912458\n\\item 0.104882154882155\n\\item 0.104882154882155\n\\item 0.109427609427609\n\\item 0.113973063973064\n\\item 0.142424242424242\n\\end{enumerate*}\n\n\\end{description}\n",
            "text/markdown": "$n.vars\n:   1. 141\n2. 70\n3. 35\n4. 17\n5. 8\n6. 4\n7. 2\n8. 1\n\n\n\n$rf.errors\n:   1. 0.16952861952862\n2. 0.108922558922559\n3. 0.0957912457912458\n4. 0.104882154882155\n5. 0.104882154882155\n6. 0.109427609427609\n7. 0.113973063973064\n8. 0.142424242424242\n\n\n\n\n\n",
            "text/plain": [
              "$n.vars\n",
              "[1] 141  70  35  17   8   4   2   1\n",
              "\n",
              "$rf.errors\n",
              "[1] 0.16952862 0.10892256 0.09579125 0.10488215 0.10488215 0.10942761 0.11397306\n",
              "[8] 0.14242424\n"
            ]
          },
          "metadata": {},
          "output_type": "display_data"
        }
      ],
      "source": [
        "lampone.rf = rf.test(lampone.data, N_tipo ~ .)\n",
        "lampone.rf"
      ]
    },
    {
      "cell_type": "code",
      "execution_count": null,
      "metadata": {
        "colab": {
          "base_uri": "https://localhost:8080/",
          "height": 437
        },
        "id": "uwlkviSq3ymj",
        "outputId": "3d8e2e6d-ace9-4209-adc2-31086135ae8a"
      },
      "outputs": [
        {
          "data": {
            "image/png": "[encoded data removed]",
            "text/plain": [
              "Plot with title “Lampone RF”"
            ]
          },
          "metadata": {
            "image/png": {
              "height": 420,
              "width": 420
            }
          },
          "output_type": "display_data"
        }
      ],
      "source": [
        "plot(lampone.rf$n.vars, lampone.rf$rf.errors, type=\"l\", xlab=\"Cantidad de Variables\", ylab=\"Error\", main=\"Lampone RF\")"
      ]
    },
    {
      "cell_type": "markdown",
      "source": [
        "Evaluo como en el ejercicio 1 y me quedo con el RF que menor error tenga (en este caso es el que toma 35 variables)"
      ],
      "metadata": {
        "id": "LvzTnvud4MU8"
      }
    },
    {
      "cell_type": "markdown",
      "metadata": {
        "id": "qArPg6Cav3y9"
      },
      "source": [
        "## Boosting"
      ]
    },
    {
      "cell_type": "code",
      "execution_count": 2,
      "metadata": {
        "id": "zvP-8F9naVyJ"
      },
      "outputs": [],
      "source": [
        "boosting.error.depth = function(ds.train, ds.test, y, m.depth) {\n",
        "  b.train.error = c()\n",
        "  b.test.error = c()\n",
        "\n",
        "  for (depth in 1:m.depth) {\n",
        "    b.adaboost = boosting(y, data=ds.train, mfinal = 10, coef=\"Freund\", control=rpart.control(maxdepth=depth))\n",
        "    b.train.predict = predict(b.adaboost, ds.train)\n",
        "    b.train.error = c(b.train.error, b.train.predict$error)\n",
        "\n",
        "    b.test.predict = predict(b.adaboost, ds.test)\n",
        "    b.test.error = c(b.test.error, b.test.predict$error)\n",
        "  }\n",
        "\n",
        "  return (list(train.error=b.train.error, test.error=b.test.error))\n",
        "}"
      ]
    },
    {
      "cell_type": "code",
      "execution_count": null,
      "metadata": {
        "id": "8gIKvd2zcH4u"
      },
      "outputs": [],
      "source": [
        "k.folds = cut(seq(1, nrow(lampone.data)), breaks=4, labels=FALSE)\n",
        "lampone.shuffled = lampone.data[sample(nrow(lampone.data)),]"
      ]
    },
    {
      "cell_type": "code",
      "execution_count": null,
      "metadata": {
        "colab": {
          "base_uri": "https://localhost:8080/",
          "height": 552
        },
        "id": "1dtcdQ2jdXWX",
        "outputId": "b7b0dd6b-fadc-4534-84b2-c8704eafb713"
      },
      "outputs": [
        {
          "data": {
            "text/html": [
              "<dl>\n",
              "\t<dt>$train.error</dt>\n",
              "\t\t<dd><style>\n",
              ".list-inline {list-style: none; margin:0; padding: 0}\n",
              ".list-inline>li {display: inline-block}\n",
              ".list-inline>li:not(:last-child)::after {content: \"\\00b7\"; padding: 0 .5ex}\n",
              "</style>\n",
              "<ol class=list-inline><li>0</li><li>0</li><li>0</li><li>0</li><li>0</li><li>0</li><li>0</li><li>0</li><li>0</li><li>0</li><li>0</li><li>0</li><li>0</li><li>0</li><li>0</li><li>0</li><li>0</li><li>0</li><li>0</li><li>0</li></ol>\n",
              "</dd>\n",
              "\t<dt>$test.error</dt>\n",
              "\t\t<dd><style>\n",
              ".list-inline {list-style: none; margin:0; padding: 0}\n",
              ".list-inline>li {display: inline-block}\n",
              ".list-inline>li:not(:last-child)::after {content: \"\\00b7\"; padding: 0 .5ex}\n",
              "</style>\n",
              "<ol class=list-inline><li>0.166666666666667</li><li>0.0833333333333334</li><li>0</li><li>0</li><li>0.0833333333333334</li><li>0.0833333333333334</li><li>0.166666666666667</li><li>0.166666666666667</li><li>0</li><li>0.0833333333333334</li><li>0</li><li>0.0833333333333334</li><li>0</li><li>0</li><li>0.0833333333333334</li><li>0.0833333333333334</li><li>0.0833333333333334</li><li>0.0833333333333334</li><li>0.166666666666667</li><li>0.0833333333333334</li></ol>\n",
              "</dd>\n",
              "</dl>\n"
            ],
            "text/latex": "\\begin{description}\n\\item[\\$train.error] \\begin{enumerate*}\n\\item 0\n\\item 0\n\\item 0\n\\item 0\n\\item 0\n\\item 0\n\\item 0\n\\item 0\n\\item 0\n\\item 0\n\\item 0\n\\item 0\n\\item 0\n\\item 0\n\\item 0\n\\item 0\n\\item 0\n\\item 0\n\\item 0\n\\item 0\n\\end{enumerate*}\n\n\\item[\\$test.error] \\begin{enumerate*}\n\\item 0.166666666666667\n\\item 0.0833333333333334\n\\item 0\n\\item 0\n\\item 0.0833333333333334\n\\item 0.0833333333333334\n\\item 0.166666666666667\n\\item 0.166666666666667\n\\item 0\n\\item 0.0833333333333334\n\\item 0\n\\item 0.0833333333333334\n\\item 0\n\\item 0\n\\item 0.0833333333333334\n\\item 0.0833333333333334\n\\item 0.0833333333333334\n\\item 0.0833333333333334\n\\item 0.166666666666667\n\\item 0.0833333333333334\n\\end{enumerate*}\n\n\\end{description}\n",
            "text/markdown": "$train.error\n:   1. 0\n2. 0\n3. 0\n4. 0\n5. 0\n6. 0\n7. 0\n8. 0\n9. 0\n10. 0\n11. 0\n12. 0\n13. 0\n14. 0\n15. 0\n16. 0\n17. 0\n18. 0\n19. 0\n20. 0\n\n\n\n$test.error\n:   1. 0.166666666666667\n2. 0.0833333333333334\n3. 0\n4. 0\n5. 0.0833333333333334\n6. 0.0833333333333334\n7. 0.166666666666667\n8. 0.166666666666667\n9. 0\n10. 0.0833333333333334\n11. 0\n12. 0.0833333333333334\n13. 0\n14. 0\n15. 0.0833333333333334\n16. 0.0833333333333334\n17. 0.0833333333333334\n18. 0.0833333333333334\n19. 0.166666666666667\n20. 0.0833333333333334\n\n\n\n\n\n",
            "text/plain": [
              "$train.error\n",
              " [1] 0 0 0 0 0 0 0 0 0 0 0 0 0 0 0 0 0 0 0 0\n",
              "\n",
              "$test.error\n",
              " [1] 0.16666667 0.08333333 0.00000000 0.00000000 0.08333333 0.08333333\n",
              " [7] 0.16666667 0.16666667 0.00000000 0.08333333 0.00000000 0.08333333\n",
              "[13] 0.00000000 0.00000000 0.08333333 0.08333333 0.08333333 0.08333333\n",
              "[19] 0.16666667 0.08333333\n"
            ]
          },
          "metadata": {},
          "output_type": "display_data"
        },
        {
          "data": {
            "image/png": "[encoded data removed]",
            "text/plain": [
              "plot without title"
            ]
          },
          "metadata": {
            "image/png": {
              "height": 420,
              "width": 420
            }
          },
          "output_type": "display_data"
        }
      ],
      "source": [
        "b = boosting.error.depth(lampone.shuffled[k.folds!=2,], lampone.shuffled[k.folds==2,], N_tipo ~ ., 20)\n",
        "plot(c(1:20), b$test.error, type=\"l\")\n",
        "b"
      ]
    },
    {
      "cell_type": "markdown",
      "metadata": {
        "id": "DksQvAmefTSw"
      },
      "source": [
        "Quiero ver cual seria el mejor depth de los arboles para este problema. Lo corri varias veces y el que mas se repetia era el numero 4"
      ]
    },
    {
      "cell_type": "code",
      "execution_count": 4,
      "metadata": {
        "id": "rPuBc5D3eQmC"
      },
      "outputs": [],
      "source": [
        "boosting.error = function(ds.train, ds.test, y, depth) {\n",
        "  b.adaboost = boosting(y, data=ds.train, mfinal = 10, coef=\"Freund\", control=rpart.control(maxdepth=depth))\n",
        "  b.train.predict = predict(b.adaboost, ds.train)\n",
        "  b.train.error = b.train.predict$error\n",
        "\n",
        "  b.test.predict = predict(b.adaboost, ds.test)\n",
        "  b.test.error = b.test.predict$error\n",
        "\n",
        "  return (list(train.error=b.train.error, test.error=b.test.error))\n",
        "}"
      ]
    },
    {
      "cell_type": "code",
      "execution_count": null,
      "metadata": {
        "colab": {
          "base_uri": "https://localhost:8080/"
        },
        "id": "P9s2CxgNXf3R",
        "outputId": "3cc6ba51-2838-4597-c98f-da7e1cf4e72d"
      },
      "outputs": [
        {
          "name": "stdout",
          "output_type": "stream",
          "text": [
            "lampone.b.error: 0.07692308 0 0.08333333 0.08333333 \n",
            "mean(lampone.b.error): 0.06089744\n"
          ]
        }
      ],
      "source": [
        "lampone.b.error = c()\n",
        "for (k in 1:4) {\n",
        "  k.test = lampone.shuffled[k.folds==k,]\n",
        "  k.train = lampone.shuffled[k.folds!=k,]\n",
        "\n",
        "  k.errors = boosting.error(k.train, k.test, N_tipo ~ ., 4)\n",
        "  lampone.b.error = c(lampone.b.error, k.errors$test.error)\n",
        "}\n",
        "\n",
        "cat(\"lampone.b.error:\", lampone.b.error, \"\\n\")\n",
        "cat(\"mean(lampone.b.error): \", mean(lampone.b.error), \"\\n\", sep = \"\")"
      ]
    },
    {
      "cell_type": "markdown",
      "metadata": {
        "id": "tIOXM9iUv9aK"
      },
      "source": [
        "## SVM\n",
        "Para los parametros, decidi usar valores que me recomendaron :)"
      ]
    },
    {
      "cell_type": "markdown",
      "metadata": {
        "id": "50mNqVJJDWb_"
      },
      "source": [
        "### RBF"
      ]
    },
    {
      "cell_type": "code",
      "execution_count": null,
      "metadata": {
        "colab": {
          "base_uri": "https://localhost:8080/"
        },
        "id": "1YXgNYRG40b1",
        "outputId": "46c9b7b3-b2c6-4f1c-ee8b-48d60ee0be5e"
      },
      "outputs": [
        {
          "name": "stdout",
          "output_type": "stream",
          "text": [
            "lampone.svm.rbf.error: 0.5384615 0.4166667 0.5 0.6666667 \n",
            "mean(lampone.svm.rbf.error): 0.5304487\n"
          ]
        }
      ],
      "source": [
        "lampone.svm.rbf.error = c()\n",
        "for (k in 1:4) {\n",
        "  k.test = lampone.shuffled[k.folds==k,]\n",
        "  k.train = lampone.shuffled[k.folds!=k,]\n",
        "\n",
        "  k.svm = suppressWarnings(svm(N_tipo ~., data=k.train, kernel=\"radial\", gamma=0.01, cost=2))\n",
        "  k.pred = predict(k.svm, k.test)\n",
        "\n",
        "  lampone.svm.rbf.error = c(lampone.svm.rbf.error, mean(k.pred != k.test$N_tipo))\n",
        "}\n",
        "\n",
        "cat(\"lampone.svm.rbf.error:\", lampone.svm.rbf.error, \"\\n\")\n",
        "cat(\"mean(lampone.svm.rbf.error): \", mean(lampone.svm.rbf.error), \"\\n\", sep = \"\")"
      ]
    },
    {
      "cell_type": "markdown",
      "metadata": {
        "id": "oEZJZbFgDaTG"
      },
      "source": [
        "### Polinomial"
      ]
    },
    {
      "cell_type": "code",
      "execution_count": null,
      "metadata": {
        "colab": {
          "base_uri": "https://localhost:8080/"
        },
        "id": "sE27_M7vDdwD",
        "outputId": "e8ca5c52-d372-431e-ad20-acd54da08709"
      },
      "outputs": [
        {
          "name": "stdout",
          "output_type": "stream",
          "text": [
            "lampone.svm.p.error: 0.1538462 0.3333333 0.08333333 0 \n",
            "mean(lampone.svm.p.error): 0.1426282\n"
          ]
        }
      ],
      "source": [
        "lampone.svm.p.error = c()\n",
        "for (k in 1:4) {\n",
        "  k.test = lampone.shuffled[k.folds==k,]\n",
        "  k.train = lampone.shuffled[k.folds!=k,]\n",
        "\n",
        "  k.svm = suppressWarnings(svm(N_tipo ~., data=k.train, kernel=\"polynomial\", gamma=0.01, cost=2))\n",
        "  k.pred = predict(k.svm, k.test)\n",
        "\n",
        "  lampone.svm.p.error = c(lampone.svm.p.error, mean(k.pred != k.test$N_tipo))\n",
        "}\n",
        "\n",
        "cat(\"lampone.svm.p.error:\", lampone.svm.p.error, \"\\n\")\n",
        "cat(\"mean(lampone.svm.p.error): \", mean(lampone.svm.p.error), \"\\n\", sep = \"\")"
      ]
    },
    {
      "cell_type": "markdown",
      "metadata": {
        "id": "2nVvK7Z0Dtos"
      },
      "source": [
        "# Conclusiones"
      ]
    },
    {
      "cell_type": "code",
      "execution_count": null,
      "metadata": {
        "colab": {
          "base_uri": "https://localhost:8080/",
          "height": 437
        },
        "id": "ERKUl_-6Dx1p",
        "outputId": "955844a9-78a8-46e5-d715-915dd5992593"
      },
      "outputs": [
        {
          "data": {
            "image/png": "[encoded data removed]",
            "text/plain": [
              "plot without title"
            ]
          },
          "metadata": {
            "image/png": {
              "height": 420,
              "width": 420
            }
          },
          "output_type": "display_data"
        }
      ],
      "source": [
        "models = c(\"RF\", \"Boosting\", \"SVM RBF\", \"SVM P\")\n",
        "barplot(height=c(lampone.rf$rf.errors[3], mean(lampone.b.error), mean(lampone.svm.rbf.error), mean(lampone.svm.p.error)), names.arg=models, , xlab=\"Model\", ylab=\"Error\")"
      ]
    },
    {
      "cell_type": "markdown",
      "source": [
        "Como podemos ver, segun los resultados, el modelo que menor error tiene es el Boosting, seguido por RF. El modelo de Boosting lo corri varias veces y este fue el mejor resutado, y queria destacar que varias veces RF era el modelo con menor error.\n",
        "\n",
        "Podemos ver que el Kernel RBF es el peor modelo, con un error aprox del 50% en todas las corridas que hice.\n",
        "\n",
        "La verdad que no puedo concluir que los Kernel son malos para este dataset ya que el Kernel Polinomial obtuvo un buen resultado, bastante cercano a RF"
      ],
      "metadata": {
        "id": "wPIIEshO438P"
      }
    },
    {
      "cell_type": "markdown",
      "metadata": {
        "id": "1FWeUUISeXJi"
      },
      "source": [
        "# Ejercicio 4"
      ]
    },
    {
      "cell_type": "markdown",
      "metadata": {
        "id": "Vk21FC7zgJfv"
      },
      "source": [
        "## RF"
      ]
    },
    {
      "cell_type": "code",
      "execution_count": 6,
      "metadata": {
        "colab": {
          "base_uri": "https://localhost:8080/",
          "height": 534
        },
        "id": "ufwALCvpe0ln",
        "outputId": "f0619751-ac68-4b3f-f032-c4d8d9489a05"
      },
      "outputs": [
        {
          "output_type": "display_data",
          "data": {
            "text/html": [
              "<dl>\n",
              "\t<dt>$n.vars</dt>\n",
              "\t\t<dd><style>\n",
              ".list-inline {list-style: none; margin:0; padding: 0}\n",
              ".list-inline>li {display: inline-block}\n",
              ".list-inline>li:not(:last-child)::after {content: \"\\00b7\"; padding: 0 .5ex}\n",
              "</style>\n",
              "<ol class=list-inline><li>69</li><li>34</li><li>17</li><li>8</li><li>4</li><li>2</li><li>1</li></ol>\n",
              "</dd>\n",
              "\t<dt>$rf.errors</dt>\n",
              "\t\t<dd><style>\n",
              ".list-inline {list-style: none; margin:0; padding: 0}\n",
              ".list-inline>li {display: inline-block}\n",
              ".list-inline>li:not(:last-child)::after {content: \"\\00b7\"; padding: 0 .5ex}\n",
              "</style>\n",
              "<ol class=list-inline><li>0.0424362606232295</li><li>0.0391218130311615</li><li>0.0388668555240793</li><li>0.0393767705382436</li><li>0.04</li><li>0.0414730878186969</li><li>0.0460339943342776</li></ol>\n",
              "</dd>\n",
              "</dl>\n"
            ],
            "text/markdown": "$n.vars\n:   1. 69\n2. 34\n3. 17\n4. 8\n5. 4\n6. 2\n7. 1\n\n\n\n$rf.errors\n:   1. 0.0424362606232295\n2. 0.0391218130311615\n3. 0.0388668555240793\n4. 0.0393767705382436\n5. 0.04\n6. 0.0414730878186969\n7. 0.0460339943342776\n\n\n\n\n\n",
            "text/latex": "\\begin{description}\n\\item[\\$n.vars] \\begin{enumerate*}\n\\item 69\n\\item 34\n\\item 17\n\\item 8\n\\item 4\n\\item 2\n\\item 1\n\\end{enumerate*}\n\n\\item[\\$rf.errors] \\begin{enumerate*}\n\\item 0.0424362606232295\n\\item 0.0391218130311615\n\\item 0.0388668555240793\n\\item 0.0393767705382436\n\\item 0.04\n\\item 0.0414730878186969\n\\item 0.0460339943342776\n\\end{enumerate*}\n\n\\end{description}\n",
            "text/plain": [
              "$n.vars\n",
              "[1] 69 34 17  8  4  2  1\n",
              "\n",
              "$rf.errors\n",
              "[1] 0.04243626 0.03912181 0.03886686 0.03937677 0.04000000 0.04147309 0.04603399\n"
            ]
          },
          "metadata": {}
        },
        {
          "output_type": "display_data",
          "data": {
            "text/plain": [
              "Plot with title “RRL RF”"
            ],
            "image/png": "[encoded data removed]"
          },
          "metadata": {
            "image/png": {
              "width": 420,
              "height": 420
            }
          }
        }
      ],
      "source": [
        "RRL.rf = rf.test(RRL, Tipo ~ .)\n",
        "RRL.rf\n",
        "plot(RRL.rf$n.vars, RRL.rf$rf.errors, type=\"l\", xlab=\"Cantidad de Variables\", ylab=\"Error\", main=\"RRL RF\")"
      ]
    },
    {
      "cell_type": "markdown",
      "source": [
        "Buscamos el mejor RF segun la cantidad de variables, en esta caso nos quedamos con el RF de 17 variables."
      ],
      "metadata": {
        "id": "GAB-uzG_6NuN"
      }
    },
    {
      "cell_type": "markdown",
      "metadata": {
        "id": "GfKB9v7wgL5t"
      },
      "source": [
        "## Boosting"
      ]
    },
    {
      "cell_type": "code",
      "execution_count": 6,
      "metadata": {
        "id": "tuMcu_vEeXyD"
      },
      "outputs": [],
      "source": [
        "k.folds = cut(seq(1, nrow(RRL)), breaks=5, labels=FALSE)\n",
        "RRL.shuffled = RRL[sample(nrow(RRL)),]"
      ]
    },
    {
      "cell_type": "code",
      "source": [
        "b = boosting.error.depth(RRL.shuffled[k.folds!=2,], RRL.shuffled[k.folds==2,], Tipo ~ ., 20)\n",
        "plot(c(1:20), b$test.error, type=\"l\")\n",
        "b"
      ],
      "metadata": {
        "colab": {
          "base_uri": "https://localhost:8080/",
          "height": 569
        },
        "id": "Rr1Per34WwQf",
        "outputId": "ebddc55f-9953-41c8-8f86-a96cc84c40b6"
      },
      "execution_count": 7,
      "outputs": [
        {
          "output_type": "display_data",
          "data": {
            "text/html": [
              "<dl>\n",
              "\t<dt>$train.error</dt>\n",
              "\t\t<dd><style>\n",
              ".list-inline {list-style: none; margin:0; padding: 0}\n",
              ".list-inline>li {display: inline-block}\n",
              ".list-inline>li:not(:last-child)::after {content: \"\\00b7\"; padding: 0 .5ex}\n",
              "</style>\n",
              "<ol class=list-inline><li>0.0771954674220963</li><li>0.0649787535410765</li><li>0.0465651558073654</li><li>0.0364730878186968</li><li>0.0228399433427762</li><li>0.0138101983002833</li><li>0.00938385269121811</li><li>0.00619688385269124</li><li>0.00849858356940514</li><li>0.0046033994334278</li><li>0.0046033994334278</li><li>0.00548866855524077</li><li>0.00212464589235128</li><li>0.00601983002832862</li><li>0.00424929178470257</li><li>0.00389518413597734</li><li>0.00371813031161472</li><li>0.00708215297450421</li><li>0.0035410764872521</li><li>0.00495750708215292</li></ol>\n",
              "</dd>\n",
              "\t<dt>$test.error</dt>\n",
              "\t\t<dd><style>\n",
              ".list-inline {list-style: none; margin:0; padding: 0}\n",
              ".list-inline>li {display: inline-block}\n",
              ".list-inline>li:not(:last-child)::after {content: \"\\00b7\"; padding: 0 .5ex}\n",
              "</style>\n",
              "<ol class=list-inline><li>0.0750708215297451</li><li>0.0722379603399433</li><li>0.0516997167138811</li><li>0.046742209631728</li><li>0.0460339943342776</li><li>0.0453257790368272</li><li>0.0368271954674221</li><li>0.0424929178470255</li><li>0.0481586402266289</li><li>0.0339943342776204</li><li>0.0495750708215298</li><li>0.0389518413597734</li><li>0.0460339943342776</li><li>0.0396600566572238</li><li>0.0410764872521246</li><li>0.0410764872521246</li><li>0.0375354107648725</li><li>0.0432011331444759</li><li>0.0453257790368272</li><li>0.0417847025495751</li></ol>\n",
              "</dd>\n",
              "</dl>\n"
            ],
            "text/markdown": "$train.error\n:   1. 0.0771954674220963\n2. 0.0649787535410765\n3. 0.0465651558073654\n4. 0.0364730878186968\n5. 0.0228399433427762\n6. 0.0138101983002833\n7. 0.00938385269121811\n8. 0.00619688385269124\n9. 0.00849858356940514\n10. 0.0046033994334278\n11. 0.0046033994334278\n12. 0.00548866855524077\n13. 0.00212464589235128\n14. 0.00601983002832862\n15. 0.00424929178470257\n16. 0.00389518413597734\n17. 0.00371813031161472\n18. 0.00708215297450421\n19. 0.0035410764872521\n20. 0.00495750708215292\n\n\n\n$test.error\n:   1. 0.0750708215297451\n2. 0.0722379603399433\n3. 0.0516997167138811\n4. 0.046742209631728\n5. 0.0460339943342776\n6. 0.0453257790368272\n7. 0.0368271954674221\n8. 0.0424929178470255\n9. 0.0481586402266289\n10. 0.0339943342776204\n11. 0.0495750708215298\n12. 0.0389518413597734\n13. 0.0460339943342776\n14. 0.0396600566572238\n15. 0.0410764872521246\n16. 0.0410764872521246\n17. 0.0375354107648725\n18. 0.0432011331444759\n19. 0.0453257790368272\n20. 0.0417847025495751\n\n\n\n\n\n",
            "text/latex": "\\begin{description}\n\\item[\\$train.error] \\begin{enumerate*}\n\\item 0.0771954674220963\n\\item 0.0649787535410765\n\\item 0.0465651558073654\n\\item 0.0364730878186968\n\\item 0.0228399433427762\n\\item 0.0138101983002833\n\\item 0.00938385269121811\n\\item 0.00619688385269124\n\\item 0.00849858356940514\n\\item 0.0046033994334278\n\\item 0.0046033994334278\n\\item 0.00548866855524077\n\\item 0.00212464589235128\n\\item 0.00601983002832862\n\\item 0.00424929178470257\n\\item 0.00389518413597734\n\\item 0.00371813031161472\n\\item 0.00708215297450421\n\\item 0.0035410764872521\n\\item 0.00495750708215292\n\\end{enumerate*}\n\n\\item[\\$test.error] \\begin{enumerate*}\n\\item 0.0750708215297451\n\\item 0.0722379603399433\n\\item 0.0516997167138811\n\\item 0.046742209631728\n\\item 0.0460339943342776\n\\item 0.0453257790368272\n\\item 0.0368271954674221\n\\item 0.0424929178470255\n\\item 0.0481586402266289\n\\item 0.0339943342776204\n\\item 0.0495750708215298\n\\item 0.0389518413597734\n\\item 0.0460339943342776\n\\item 0.0396600566572238\n\\item 0.0410764872521246\n\\item 0.0410764872521246\n\\item 0.0375354107648725\n\\item 0.0432011331444759\n\\item 0.0453257790368272\n\\item 0.0417847025495751\n\\end{enumerate*}\n\n\\end{description}\n",
            "text/plain": [
              "$train.error\n",
              " [1] 0.077195467 0.064978754 0.046565156 0.036473088 0.022839943 0.013810198\n",
              " [7] 0.009383853 0.006196884 0.008498584 0.004603399 0.004603399 0.005488669\n",
              "[13] 0.002124646 0.006019830 0.004249292 0.003895184 0.003718130 0.007082153\n",
              "[19] 0.003541076 0.004957507\n",
              "\n",
              "$test.error\n",
              " [1] 0.07507082 0.07223796 0.05169972 0.04674221 0.04603399 0.04532578\n",
              " [7] 0.03682720 0.04249292 0.04815864 0.03399433 0.04957507 0.03895184\n",
              "[13] 0.04603399 0.03966006 0.04107649 0.04107649 0.03753541 0.04320113\n",
              "[19] 0.04532578 0.04178470\n"
            ]
          },
          "metadata": {}
        },
        {
          "output_type": "display_data",
          "data": {
            "text/plain": [
              "plot without title"
            ],
            "image/png": "[encoded data removed]"
          },
          "metadata": {
            "image/png": {
              "width": 420,
              "height": 420
            }
          }
        }
      ]
    },
    {
      "cell_type": "markdown",
      "source": [
        "Como en el ejercicio anterior, estamos buscando el depth de los arboles y decidi probar con valores de 10 a 15 y el mejor que me dio fue 13."
      ],
      "metadata": {
        "id": "7sJpnsx26YH7"
      }
    },
    {
      "cell_type": "code",
      "execution_count": 9,
      "metadata": {
        "id": "o6RE5UY4fMe9",
        "colab": {
          "base_uri": "https://localhost:8080/"
        },
        "outputId": "eef9cde6-d55e-4861-ba4c-40ff0fec2369"
      },
      "outputs": [
        {
          "output_type": "stream",
          "name": "stdout",
          "text": [
            "RRL.b.error: 0.0368272 0.04532578 0.04886686 0.04815864 \n",
            "mean(RRL.b.error): 0.04479462\n"
          ]
        }
      ],
      "source": [
        "RRL.b.error = c()\n",
        "for (k in 1:4) {\n",
        "  k.test = RRL.shuffled[k.folds==k,]\n",
        "  k.train = RRL.shuffled[k.folds!=k,]\n",
        "\n",
        "  k.errors = boosting.error(k.train, k.test, Tipo ~ ., 13)\n",
        "  RRL.b.error = c(RRL.b.error, k.errors$test.error)\n",
        "}\n",
        "\n",
        "cat(\"RRL.b.error:\", RRL.b.error, \"\\n\")\n",
        "cat(\"mean(RRL.b.error): \", mean(RRL.b.error), \"\\n\", sep = \"\")"
      ]
    },
    {
      "cell_type": "markdown",
      "metadata": {
        "id": "NecxIQGsgO2E"
      },
      "source": [
        "## SVM"
      ]
    },
    {
      "cell_type": "markdown",
      "source": [
        "### RBF"
      ],
      "metadata": {
        "id": "wAfHp19X1_co"
      }
    },
    {
      "cell_type": "code",
      "execution_count": 10,
      "metadata": {
        "id": "h8DpssoGgFLL",
        "colab": {
          "base_uri": "https://localhost:8080/"
        },
        "outputId": "ae4d323a-7af9-4a9d-c8b2-37eeedcf08ff"
      },
      "outputs": [
        {
          "output_type": "stream",
          "name": "stdout",
          "text": [
            "RRL.svm.rbf.error: 0.07648725 0.07790368 0.09844193 0.0786119 \n",
            "mean(RRL.svm.rbf.error): 0.08286119\n"
          ]
        }
      ],
      "source": [
        "RRL.svm.rbf.error = c()\n",
        "for (k in 1:4) {\n",
        "  k.test = RRL.shuffled[k.folds==k,]\n",
        "  k.train = RRL.shuffled[k.folds!=k,]\n",
        "\n",
        "  k.svm = suppressWarnings(svm(Tipo ~., data=k.train, kernel=\"radial\", gamma=0.01, cost=2))\n",
        "  k.pred = predict(k.svm, k.test)\n",
        "\n",
        "  RRL.svm.rbf.error = c(RRL.svm.rbf.error, mean(k.pred != k.test$Tipo))\n",
        "}\n",
        "\n",
        "cat(\"RRL.svm.rbf.error:\", RRL.svm.rbf.error, \"\\n\")\n",
        "cat(\"mean(RRL.svm.rbf.error): \", mean(RRL.svm.rbf.error), \"\\n\", sep = \"\")"
      ]
    },
    {
      "cell_type": "markdown",
      "source": [
        "### Polinomial"
      ],
      "metadata": {
        "id": "TyzrhnEk18PP"
      }
    },
    {
      "cell_type": "code",
      "source": [
        "RRL.svm.p.error = c()\n",
        "for (k in 1:4) {\n",
        "  k.test = RRL.shuffled[k.folds==k,]\n",
        "  k.train = RRL.shuffled[k.folds!=k,]\n",
        "\n",
        "  k.svm = suppressWarnings(svm(Tipo ~., data=k.train, kernel=\"polynomial\", gamma=0.01, cost=2))\n",
        "  k.pred = predict(k.svm, k.test)\n",
        "\n",
        "  RRL.svm.p.error = c(RRL.svm.p.error, mean(k.pred != k.test$Tipo))\n",
        "}\n",
        "\n",
        "cat(\"RRL.svm.p.error:\", RRL.svm.p.error, \"\\n\")\n",
        "cat(\"mean(RRL.svm.p.error): \", mean(RRL.svm.p.error), \"\\n\", sep = \"\")"
      ],
      "metadata": {
        "colab": {
          "base_uri": "https://localhost:8080/"
        },
        "id": "DpheC3kh2EJY",
        "outputId": "407d08c9-0001-4ba2-ba85-c95925826bf9"
      },
      "execution_count": 11,
      "outputs": [
        {
          "output_type": "stream",
          "name": "stdout",
          "text": [
            "RRL.svm.p.error: 0.1048159 0.1168555 0.1267705 0.1196884 \n",
            "mean(RRL.svm.p.error): 0.1170326\n"
          ]
        }
      ]
    },
    {
      "cell_type": "markdown",
      "source": [
        "## Conclusiones"
      ],
      "metadata": {
        "id": "JbWmNxpZ6xAt"
      }
    },
    {
      "cell_type": "code",
      "source": [
        "models = c(\"RF\", \"Boosting\", \"SVM RBF\", \"SVM P\")\n",
        "barplot(height=c(RRL.rf$rf.errors[3], mean(RRL.b.error), mean(RRL.svm.rbf.error), mean(RRL.svm.p.error)), names.arg=models, , xlab=\"Model\", ylab=\"Error\")"
      ],
      "metadata": {
        "colab": {
          "base_uri": "https://localhost:8080/",
          "height": 437
        },
        "id": "5xfn0DJX2OgP",
        "outputId": "6f6b707a-7c00-446d-b8f9-a433cbafbad2"
      },
      "execution_count": 12,
      "outputs": [
        {
          "output_type": "display_data",
          "data": {
            "text/plain": [
              "plot without title"
            ],
            "image/png": "[encoded data removed]"
          },
          "metadata": {
            "image/png": {
              "width": 420,
              "height": 420
            }
          }
        }
      ]
    },
    {
      "cell_type": "markdown",
      "source": [
        "Como en el dataset anterior, los mejores modelos fueron RF y Boosting, en ese orden. Tambien se repite que los Kernels tienen un mayor error que los otros modelos y podemos decir que no son tan optimos para resolverlos."
      ],
      "metadata": {
        "id": "zY1pS2jo6p1p"
      }
    }
  ],
  "metadata": {
    "colab": {
      "provenance": [],
      "toc_visible": true
    },
    "kernelspec": {
      "display_name": "R",
      "name": "ir"
    },
    "language_info": {
      "name": "R"
    }
  },
  "nbformat": 4,
  "nbformat_minor": 0
}